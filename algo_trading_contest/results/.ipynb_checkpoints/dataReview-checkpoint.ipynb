{
 "cells": [
  {
   "cell_type": "code",
   "execution_count": 83,
   "metadata": {},
   "outputs": [],
   "source": [
    "import pandas as pd\n",
    "import numpy as np\n",
    "\n",
    "#ugly ass parsing lol\n",
    "f = open(\"output5.txt\", \"r\")\n",
    "data = f.read(6000000)\n",
    "data = map(lambda line: [None, line.split(' ')]['on hand:' in line], data.split('\\n'))\n",
    "data2 = []\n",
    "for x in data:\n",
    "    x2 = []\n",
    "    if x != None: \n",
    "        for d in range(len(x)):\n",
    "            try:\n",
    "                d2 = float(x[d])\n",
    "                if d in [1, 2, 3] or d2 < 500000:\n",
    "                    x2.append(d2)\n",
    "            except:\n",
    "                pass\n",
    "        if len(x2) == 4:\n",
    "            data2.append(x2)\n",
    "col = ['on hand', 'max', 'p/l', 'list']\n",
    "df = pd.DataFrame(columns=col, data=data2)"
   ]
  },
  {
   "cell_type": "code",
   "execution_count": 84,
   "metadata": {},
   "outputs": [
    {
     "name": "stdout",
     "output_type": "stream",
     "text": [
      "<class 'pandas.core.frame.DataFrame'>\n",
      "RangeIndex: 47477 entries, 0 to 47476\n",
      "Data columns (total 4 columns):\n",
      " #   Column   Non-Null Count  Dtype  \n",
      "---  ------   --------------  -----  \n",
      " 0   on hand  47477 non-null  float64\n",
      " 1   max      47477 non-null  float64\n",
      " 2   p/l      47477 non-null  float64\n",
      " 3   list     47477 non-null  float64\n",
      "dtypes: float64(4)\n",
      "memory usage: 1.4 MB\n"
     ]
    }
   ],
   "source": [
    "df.info()"
   ]
  },
  {
   "cell_type": "code",
   "execution_count": 85,
   "metadata": {},
   "outputs": [
    {
     "data": {
      "text/html": [
       "<div>\n",
       "<style scoped>\n",
       "    .dataframe tbody tr th:only-of-type {\n",
       "        vertical-align: middle;\n",
       "    }\n",
       "\n",
       "    .dataframe tbody tr th {\n",
       "        vertical-align: top;\n",
       "    }\n",
       "\n",
       "    .dataframe thead th {\n",
       "        text-align: right;\n",
       "    }\n",
       "</style>\n",
       "<table border=\"1\" class=\"dataframe\">\n",
       "  <thead>\n",
       "    <tr style=\"text-align: right;\">\n",
       "      <th></th>\n",
       "      <th>on hand</th>\n",
       "      <th>max</th>\n",
       "      <th>p/l</th>\n",
       "      <th>list</th>\n",
       "    </tr>\n",
       "  </thead>\n",
       "  <tbody>\n",
       "    <tr>\n",
       "      <th>count</th>\n",
       "      <td>47477.000000</td>\n",
       "      <td>47477.000000</td>\n",
       "      <td>47477.000000</td>\n",
       "      <td>47477.00000</td>\n",
       "    </tr>\n",
       "    <tr>\n",
       "      <th>mean</th>\n",
       "      <td>12046.343615</td>\n",
       "      <td>154448.414822</td>\n",
       "      <td>32499.360622</td>\n",
       "      <td>140.16568</td>\n",
       "    </tr>\n",
       "    <tr>\n",
       "      <th>std</th>\n",
       "      <td>268484.363887</td>\n",
       "      <td>13145.924433</td>\n",
       "      <td>20849.542930</td>\n",
       "      <td>6899.43801</td>\n",
       "    </tr>\n",
       "    <tr>\n",
       "      <th>min</th>\n",
       "      <td>-822665.000000</td>\n",
       "      <td>-449820.000000</td>\n",
       "      <td>-290536.500000</td>\n",
       "      <td>-303225.00000</td>\n",
       "    </tr>\n",
       "    <tr>\n",
       "      <th>25%</th>\n",
       "      <td>-200530.000000</td>\n",
       "      <td>152250.000000</td>\n",
       "      <td>15014.080000</td>\n",
       "      <td>4.00000</td>\n",
       "    </tr>\n",
       "    <tr>\n",
       "      <th>50%</th>\n",
       "      <td>10313.000000</td>\n",
       "      <td>154360.000000</td>\n",
       "      <td>29282.450000</td>\n",
       "      <td>6.00000</td>\n",
       "    </tr>\n",
       "    <tr>\n",
       "      <th>75%</th>\n",
       "      <td>220440.000000</td>\n",
       "      <td>157679.000000</td>\n",
       "      <td>51507.920000</td>\n",
       "      <td>8.00000</td>\n",
       "    </tr>\n",
       "    <tr>\n",
       "      <th>max</th>\n",
       "      <td>751012.500000</td>\n",
       "      <td>432042.500000</td>\n",
       "      <td>441964.050000</td>\n",
       "      <td>440968.00000</td>\n",
       "    </tr>\n",
       "  </tbody>\n",
       "</table>\n",
       "</div>"
      ],
      "text/plain": [
       "             on hand            max            p/l          list\n",
       "count   47477.000000   47477.000000   47477.000000   47477.00000\n",
       "mean    12046.343615  154448.414822   32499.360622     140.16568\n",
       "std    268484.363887   13145.924433   20849.542930    6899.43801\n",
       "min   -822665.000000 -449820.000000 -290536.500000 -303225.00000\n",
       "25%   -200530.000000  152250.000000   15014.080000       4.00000\n",
       "50%     10313.000000  154360.000000   29282.450000       6.00000\n",
       "75%    220440.000000  157679.000000   51507.920000       8.00000\n",
       "max    751012.500000  432042.500000  441964.050000  440968.00000"
      ]
     },
     "execution_count": 85,
     "metadata": {},
     "output_type": "execute_result"
    }
   ],
   "source": [
    "df.describe()"
   ]
  },
  {
   "cell_type": "code",
   "execution_count": 86,
   "metadata": {},
   "outputs": [
    {
     "data": {
      "text/plain": [
       "<matplotlib.axes._subplots.AxesSubplot at 0x117406cd0>"
      ]
     },
     "execution_count": 86,
     "metadata": {},
     "output_type": "execute_result"
    },
    {
     "data": {
      "text/plain": [
       "<Figure size 432x288 with 0 Axes>"
      ]
     },
     "metadata": {},
     "output_type": "display_data"
    },
    {
     "data": {
      "image/png": "[encoded data removed]",
      "text/plain": [
       "<Figure size 432x288 with 1 Axes>"
      ]
     },
     "metadata": {
      "needs_background": "light"
     },
     "output_type": "display_data"
    }
   ],
   "source": [
    "import matplotlib.pyplot as plt\n",
    "plt.figure()\n",
    "df.plot()"
   ]
  },
  {
   "cell_type": "code",
   "execution_count": 87,
   "metadata": {},
   "outputs": [
    {
     "data": {
      "image/png": "[encoded data removed]",
      "text/plain": [
       "<Figure size 432x288 with 1 Axes>"
      ]
     },
     "metadata": {
      "needs_background": "light"
     },
     "output_type": "display_data"
    }
   ],
   "source": [
    "from pandas.plotting import lag_plot\n",
    "fig = plt.figure()\n",
    "df['p/l'].plot()\n",
    "plt.show()"
   ]
  },
  {
   "cell_type": "code",
   "execution_count": 88,
   "metadata": {},
   "outputs": [
    {
     "name": "stderr",
     "output_type": "stream",
     "text": [
      "/Users/hayden/UMich/ds/lib/python3.7/site-packages/pandas/plotting/_matplotlib/tools.py:298: MatplotlibDeprecationWarning: \n",
      "The rowNum attribute was deprecated in Matplotlib 3.2 and will be removed two minor releases later. Use ax.get_subplotspec().rowspan.start instead.\n",
      "  layout[ax.rowNum, ax.colNum] = ax.get_visible()\n",
      "/Users/hayden/UMich/ds/lib/python3.7/site-packages/pandas/plotting/_matplotlib/tools.py:298: MatplotlibDeprecationWarning: \n",
      "The colNum attribute was deprecated in Matplotlib 3.2 and will be removed two minor releases later. Use ax.get_subplotspec().colspan.start instead.\n",
      "  layout[ax.rowNum, ax.colNum] = ax.get_visible()\n",
      "/Users/hayden/UMich/ds/lib/python3.7/site-packages/pandas/plotting/_matplotlib/tools.py:304: MatplotlibDeprecationWarning: \n",
      "The rowNum attribute was deprecated in Matplotlib 3.2 and will be removed two minor releases later. Use ax.get_subplotspec().rowspan.start instead.\n",
      "  if not layout[ax.rowNum + 1, ax.colNum]:\n",
      "/Users/hayden/UMich/ds/lib/python3.7/site-packages/pandas/plotting/_matplotlib/tools.py:304: MatplotlibDeprecationWarning: \n",
      "The colNum attribute was deprecated in Matplotlib 3.2 and will be removed two minor releases later. Use ax.get_subplotspec().colspan.start instead.\n",
      "  if not layout[ax.rowNum + 1, ax.colNum]:\n"
     ]
    },
    {
     "data": {
      "text/plain": [
       "array([[<matplotlib.axes._subplots.AxesSubplot object at 0x1374e0a90>,\n",
       "        <matplotlib.axes._subplots.AxesSubplot object at 0x13a279bd0>],\n",
       "       [<matplotlib.axes._subplots.AxesSubplot object at 0x13a386710>,\n",
       "        <matplotlib.axes._subplots.AxesSubplot object at 0x13a781d90>]],\n",
       "      dtype=object)"
      ]
     },
     "execution_count": 88,
     "metadata": {},
     "output_type": "execute_result"
    },
    {
     "data": {
      "image/png": "[encoded data removed]",
      "text/plain": [
       "<Figure size 432x288 with 4 Axes>"
      ]
     },
     "metadata": {
      "needs_background": "light"
     },
     "output_type": "display_data"
    }
   ],
   "source": [
    "df.hist()"
   ]
  },
  {
   "cell_type": "code",
   "execution_count": 91,
   "metadata": {},
   "outputs": [
    {
     "data": {
      "text/html": [
       "<div>\n",
       "<style scoped>\n",
       "    .dataframe tbody tr th:only-of-type {\n",
       "        vertical-align: middle;\n",
       "    }\n",
       "\n",
       "    .dataframe tbody tr th {\n",
       "        vertical-align: top;\n",
       "    }\n",
       "\n",
       "    .dataframe thead th {\n",
       "        text-align: right;\n",
       "    }\n",
       "</style>\n",
       "<table border=\"1\" class=\"dataframe\">\n",
       "  <thead>\n",
       "    <tr style=\"text-align: right;\">\n",
       "      <th></th>\n",
       "      <th>on hand</th>\n",
       "      <th>max</th>\n",
       "      <th>p/l</th>\n",
       "      <th>list</th>\n",
       "    </tr>\n",
       "  </thead>\n",
       "  <tbody>\n",
       "    <tr>\n",
       "      <th>on hand</th>\n",
       "      <td>1.000000</td>\n",
       "      <td>0.032218</td>\n",
       "      <td>0.032384</td>\n",
       "      <td>0.014731</td>\n",
       "    </tr>\n",
       "    <tr>\n",
       "      <th>max</th>\n",
       "      <td>0.032218</td>\n",
       "      <td>1.000000</td>\n",
       "      <td>0.154169</td>\n",
       "      <td>-0.099518</td>\n",
       "    </tr>\n",
       "    <tr>\n",
       "      <th>p/l</th>\n",
       "      <td>0.032384</td>\n",
       "      <td>0.154169</td>\n",
       "      <td>1.000000</td>\n",
       "      <td>0.031902</td>\n",
       "    </tr>\n",
       "    <tr>\n",
       "      <th>list</th>\n",
       "      <td>0.014731</td>\n",
       "      <td>-0.099518</td>\n",
       "      <td>0.031902</td>\n",
       "      <td>1.000000</td>\n",
       "    </tr>\n",
       "  </tbody>\n",
       "</table>\n",
       "</div>"
      ],
      "text/plain": [
       "          on hand       max       p/l      list\n",
       "on hand  1.000000  0.032218  0.032384  0.014731\n",
       "max      0.032218  1.000000  0.154169 -0.099518\n",
       "p/l      0.032384  0.154169  1.000000  0.031902\n",
       "list     0.014731 -0.099518  0.031902  1.000000"
      ]
     },
     "execution_count": 91,
     "metadata": {},
     "output_type": "execute_result"
    }
   ],
   "source": [
    "df.corr()"
   ]
  },
  {
   "cell_type": "code",
   "execution_count": 92,
   "metadata": {},
   "outputs": [
    {
     "data": {
      "text/plain": [
       "p/l        1.000000\n",
       "max        0.154169\n",
       "on hand    0.032384\n",
       "list       0.031902\n",
       "Name: p/l, dtype: float64"
      ]
     },
     "execution_count": 92,
     "metadata": {},
     "output_type": "execute_result"
    }
   ],
   "source": [
    "df.corr()['p/l'].sort_values(ascending=False)"
   ]
  },
  {
   "cell_type": "code",
   "execution_count": null,
   "metadata": {},
   "outputs": [],
   "source": []
  }
 ],
 "metadata": {
  "kernelspec": {
   "display_name": "ds",
   "language": "python",
   "name": "ds"
  },
  "language_info": {
   "codemirror_mode": {
    "name": "ipython",
    "version": 3
   },
   "file_extension": ".py",
   "mimetype": "text/x-python",
   "name": "python",
   "nbconvert_exporter": "python",
   "pygments_lexer": "ipython3",
   "version": "3.7.6"
  }
 },
 "nbformat": 4,
 "nbformat_minor": 2
}
