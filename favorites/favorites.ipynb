{
 "cells": [
  {
   "cell_type": "markdown",
   "id": "noticed-suspension",
   "metadata": {},
   "source": [
    "# Find duplicates in fixed range array\n",
    "\n",
    "Given an array of size n where every element in the array is between 1 and n. There can be multiple duplicates\n",
    "\n",
    "Find and return a duplicate, if none return -1.\n",
    "\n",
    "[LeetCode #287 (medium)](https://leetcode.com/problems/find-the-duplicate-number/)"
   ]
  },
  {
   "cell_type": "code",
   "execution_count": 1,
   "id": "handed-bangkok",
   "metadata": {},
   "outputs": [],
   "source": [
    "# O(n) time, O(n) space\n",
    "def find_dups(arr):\n",
    "    prev_seen = {}\n",
    "    for i in arr:\n",
    "        if i in prev_seen:\n",
    "            return i\n",
    "        prev_seen.add(i)\n",
    "    return -1"
   ]
  },
  {
   "cell_type": "code",
   "execution_count": 2,
   "id": "ambient-grace",
   "metadata": {},
   "outputs": [],
   "source": [
    "# O(n) time, O(1) space\n",
    "def find_dups(arr):\n",
    "    for i in range(len(arr)):\n",
    "        if arr[abs(arr[i])-1] < 0:\n",
    "            return abs(arr[i])\n",
    "        else:\n",
    "            arr[abs(arr[i])-1] *= -1\n",
    "    return -1"
   ]
  },
  {
   "cell_type": "code",
   "execution_count": 6,
   "id": "aggregate-turtle",
   "metadata": {},
   "outputs": [
    {
     "name": "stdout",
     "output_type": "stream",
     "text": [
      "4 True\n"
     ]
    }
   ],
   "source": [
    "arr, ans = [8, 4, 7, 1, 5, 4, 3, 2], 4\n",
    "result = find_dups(arr)\n",
    "print(result, result == ans)"
   ]
  },
  {
   "cell_type": "markdown",
   "id": "swiss-italy",
   "metadata": {},
   "source": [
    "# Number of Islands\n",
    "\n",
    "Given an m x n 2D binary grid grid which represents a map of '1's (land) and '0's (water), return the number of islands.\n",
    "\n",
    "An island is surrounded by water and is formed by connecting adjacent lands horizontally or vertically. You may assume all four edges of the grid are all surrounded by water.\n",
    "\n",
    "[LeetCode #200 (medium)](https://leetcode.com/problems/number-of-islands/)"
   ]
  },
  {
   "cell_type": "code",
   "execution_count": 8,
   "id": "parental-pressing",
   "metadata": {},
   "outputs": [],
   "source": [
    "def find_islands(data):\n",
    "    count = 0;\n",
    "    def remove_neighbors(x, y):\n",
    "        # improves performance if you check bounds before each recursive call\n",
    "        if x < len(data) and x >= 0 and y < len(data[0]) and y >= 0 and data[x][y] == 1:\n",
    "            data[x][y] = 0\n",
    "            remove_neighbors(x - 1, y)\n",
    "            remove_neighbors(x + 1, y)\n",
    "            remove_neighbors(x, y - 1)\n",
    "            remove_neighbors(x, y + 1)\n",
    "    for i in range(len(data)):\n",
    "        for j in range(len(data)):\n",
    "            if data[i][j] == 1:\n",
    "                count += 1\n",
    "                remove_neighbors(i, j)\n",
    "    return count"
   ]
  },
  {
   "cell_type": "code",
   "execution_count": 9,
   "id": "impaired-surrey",
   "metadata": {},
   "outputs": [
    {
     "name": "stdout",
     "output_type": "stream",
     "text": [
      "3 True\n"
     ]
    }
   ],
   "source": [
    "matrix, ans = [\n",
    "    [1, 1, 0, 0, 0],\n",
    "    [1, 1, 0, 0, 0],\n",
    "    [0, 0, 1, 0, 0],\n",
    "    [0, 0, 0, 1, 1],\n",
    "    [0, 0, 0, 0, 1]\n",
    "], 3\n",
    "result = find_islands(matrix)\n",
    "print(result, result == ans)"
   ]
  },
  {
   "cell_type": "code",
   "execution_count": null,
   "id": "fiscal-charter",
   "metadata": {},
   "outputs": [],
   "source": []
  }
 ],
 "metadata": {
  "kernelspec": {
   "display_name": "Python 3",
   "language": "python",
   "name": "python3"
  },
  "language_info": {
   "codemirror_mode": {
    "name": "ipython",
    "version": 3
   },
   "file_extension": ".py",
   "mimetype": "text/x-python",
   "name": "python",
   "nbconvert_exporter": "python",
   "pygments_lexer": "ipython3",
   "version": "3.9.6"
  }
 },
 "nbformat": 4,
 "nbformat_minor": 5
}
