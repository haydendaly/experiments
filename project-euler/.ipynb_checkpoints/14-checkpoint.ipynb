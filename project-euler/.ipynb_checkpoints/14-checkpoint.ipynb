{
 "cells": [
  {
   "cell_type": "code",
   "execution_count": 31,
   "metadata": {},
   "outputs": [],
   "source": [
    "#14\n",
    "def findCollatzSeq(n=1000000):\n",
    "    hashmap = { 1: 1 }\n",
    "    max_length = 0\n",
    "    max_idx = None\n",
    "    \n",
    "    for i in range(1, n + 1):\n",
    "        if i in hashmap:\n",
    "            pass\n",
    "    \n",
    "        is_novel = True\n",
    "        next_val = i\n",
    "        while is_novel:\n",
    "            length = 1\n",
    "            seq_sum = i\n",
    "\n",
    "            if next_val % 2 == 0:\n",
    "                next_val = i / 2\n",
    "            else:\n",
    "                next_val = 3*next_val + 1\n",
    "\n",
    "                \n",
    "            print(next_val)\n",
    "\n",
    "            if next_val in hashmap:\n",
    "                next_tuple = hashmap[next_val]\n",
    "                new_length = next_tuple[0] + length\n",
    "\n",
    "                if new_length > max_length:\n",
    "                    max_length = new_length\n",
    "                    max_idx = i\n",
    "                is_novel = False\n",
    "    \n",
    "                hashmap[i] = new_length\n",
    "        print(hashmap)\n",
    "        \n",
    "    return max_idx"
   ]
  },
  {
   "cell_type": "code",
   "execution_count": 32,
   "metadata": {},
   "outputs": [
    {
     "name": "stdout",
     "output_type": "stream",
     "text": [
      "4\n",
      "0.5\n"
     ]
    },
    {
     "ename": "TypeError",
     "evalue": "unsupported operand type(s) for &: 'float' and 'int'",
     "output_type": "error",
     "traceback": [
      "\u001b[0;31m---------------------------------------------------------------------------\u001b[0m",
      "\u001b[0;31mTypeError\u001b[0m                                 Traceback (most recent call last)",
      "\u001b[0;32m<ipython-input-32-7a0d020a94aa>\u001b[0m in \u001b[0;36m<module>\u001b[0;34m\u001b[0m\n\u001b[0;32m----> 1\u001b[0;31m \u001b[0mfindCollatzSeq\u001b[0m\u001b[0;34m(\u001b[0m\u001b[0;36m14\u001b[0m\u001b[0;34m)\u001b[0m\u001b[0;34m\u001b[0m\u001b[0;34m\u001b[0m\u001b[0m\n\u001b[0m",
      "\u001b[0;32m<ipython-input-31-eb6c530f80dc>\u001b[0m in \u001b[0;36mfindCollatzSeq\u001b[0;34m(n)\u001b[0m\n\u001b[1;32m     15\u001b[0m             \u001b[0mseq_sum\u001b[0m \u001b[0;34m=\u001b[0m \u001b[0mi\u001b[0m\u001b[0;34m\u001b[0m\u001b[0;34m\u001b[0m\u001b[0m\n\u001b[1;32m     16\u001b[0m \u001b[0;34m\u001b[0m\u001b[0m\n\u001b[0;32m---> 17\u001b[0;31m             \u001b[0;32mif\u001b[0m \u001b[0mnext_val\u001b[0m \u001b[0;34m&\u001b[0m \u001b[0;36m1\u001b[0m \u001b[0;34m==\u001b[0m \u001b[0;36m1\u001b[0m\u001b[0;34m:\u001b[0m\u001b[0;34m\u001b[0m\u001b[0;34m\u001b[0m\u001b[0m\n\u001b[0m\u001b[1;32m     18\u001b[0m                 \u001b[0mnext_val\u001b[0m \u001b[0;34m=\u001b[0m \u001b[0;36m3\u001b[0m\u001b[0;34m*\u001b[0m\u001b[0mnext_val\u001b[0m \u001b[0;34m+\u001b[0m \u001b[0;36m1\u001b[0m\u001b[0;34m\u001b[0m\u001b[0;34m\u001b[0m\u001b[0m\n\u001b[1;32m     19\u001b[0m             \u001b[0;32melse\u001b[0m\u001b[0;34m:\u001b[0m\u001b[0;34m\u001b[0m\u001b[0;34m\u001b[0m\u001b[0m\n",
      "\u001b[0;31mTypeError\u001b[0m: unsupported operand type(s) for &: 'float' and 'int'"
     ]
    }
   ],
   "source": [
    "findCollatzSeq(14)"
   ]
  },
  {
   "cell_type": "code",
   "execution_count": null,
   "metadata": {},
   "outputs": [],
   "source": []
  }
 ],
 "metadata": {
  "kernelspec": {
   "display_name": "Python 3",
   "language": "python",
   "name": "python3"
  }
 },
 "nbformat": 4,
 "nbformat_minor": 2
}
