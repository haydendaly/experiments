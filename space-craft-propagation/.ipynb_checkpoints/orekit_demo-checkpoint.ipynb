{
 "cells": [
  {
   "cell_type": "code",
   "execution_count": 1,
   "metadata": {},
   "outputs": [],
   "source": [
    "import orekit"
   ]
  },
  {
   "cell_type": "code",
   "execution_count": 2,
   "metadata": {},
   "outputs": [],
   "source": [
    "vm = orekit.initVM()"
   ]
  },
  {
   "cell_type": "code",
   "execution_count": 3,
   "metadata": {},
   "outputs": [],
   "source": [
    "from orekit.pyhelpers import setup_orekit_curdir\n",
    "\n",
    "setup_orekit_curdir() # looks for orekit-data.zip\n",
    "\n",
    "# grab two line elements from celestrak:\n",
    "# https://celestrak.com/NORAD/elements/active.txt\n",
    "iss_tle = [\n",
    "    \"1 25544U 98067A   20168.72989583  .00000038  00000-0  87409-5 0  9992\",\n",
    "    \"2 25544  51.6465 350.7306 0002347  64.4399 115.7370 15.49444406231948\"\n",
    "]"
   ]
  },
  {
   "cell_type": "code",
   "execution_count": 4,
   "metadata": {},
   "outputs": [
    {
     "name": "stdout",
     "output_type": "stream",
     "text": [
      "date: 2020-06-16T17:31:03.000, eccentricity: 0.0002, inclination: 51.65\n"
     ]
    }
   ],
   "source": [
    "from org.orekit.propagation.analytical.tle import TLE, TLEPropagator\n",
    "\n",
    "tle = TLE(iss_tle[0], iss_tle[1])\n",
    "\n",
    "import math\n",
    "\n",
    "epoch = tle.getDate()\n",
    "print(\"date: {:s}, eccentricity: {:.4f}, inclination: {:.2f}\".format(\n",
    "    epoch.toString(),\n",
    "    tle.getE(),\n",
    "    math.degrees(tle.getI())\n",
    "))"
   ]
  },
  {
   "cell_type": "code",
   "execution_count": 5,
   "metadata": {},
   "outputs": [
    {
     "name": "stdout",
     "output_type": "stream",
     "text": [
      "frame: TEME, x: -6712652.01, y: 1073166.87, z: -27908.345884\n"
     ]
    }
   ],
   "source": [
    "from org.orekit.propagation.analytical.tle import TLEPropagator\n",
    "\n",
    "propagator = TLEPropagator.selectExtrapolator(tle)\n",
    "\n",
    "coords = propagator.getPVCoordinates(epoch)\n",
    "position = coords.getPosition()\n",
    "frame = propagator.getFrame()\n",
    "print(\"frame: {:s}, x: {:.2f}, y: {:.2f}, z: {:2f}\".format(\n",
    "    frame.getName(),\n",
    "    position.getX(),\n",
    "    position.getY(),\n",
    "    position.getZ()\n",
    "))"
   ]
  },
  {
   "cell_type": "code",
   "execution_count": 6,
   "metadata": {},
   "outputs": [
    {
     "name": "stdout",
     "output_type": "stream",
     "text": [
      "frame: EME2000, x: -6707713.76, y: 1103866.05, z: -14794.730835\n"
     ]
    }
   ],
   "source": [
    "from org.orekit.frames import FramesFactory\n",
    "\n",
    "# convert to an earth-centered inertial frame\n",
    "eci = FramesFactory.getEME2000()\n",
    "teme_to_eci_xf = frame.getTransformTo(eci, epoch)\n",
    "eci_position = teme_to_eci_xf.transformPosition(position)\n",
    "print(\"frame: {:s}, x: {:.2f}, y: {:.2f}, z: {:2f}\".format(\n",
    "    eci.getName(),\n",
    "    eci_position.getX(),\n",
    "    eci_position.getY(),\n",
    "    eci_position.getZ()\n",
    "))"
   ]
  },
  {
   "cell_type": "code",
   "execution_count": 7,
   "metadata": {},
   "outputs": [
    {
     "name": "stdout",
     "output_type": "stream",
     "text": [
      "frame: CIO/2010-based ITRF simple EOP, x: 6790287.07, y: 321536.17, z: -27911.471567\n"
     ]
    }
   ],
   "source": [
    "from org.orekit.utils import IERSConventions\n",
    "\n",
    "# convert to an earth-centered fixed frame\n",
    "ecef = FramesFactory.getITRF(IERSConventions.IERS_2010, True)\n",
    "teme_to_ecef_xf = frame.getTransformTo(ecef, epoch)\n",
    "ecef_position = teme_to_ecef_xf.transformPosition(position)\n",
    "print(\"frame: {:s}, x: {:.2f}, y: {:.2f}, z: {:2f}\".format(\n",
    "    ecef.getName(),\n",
    "    ecef_position.getX(),\n",
    "    ecef_position.getY(),\n",
    "    ecef_position.getZ()\n",
    "))\n"
   ]
  },
  {
   "cell_type": "code",
   "execution_count": 8,
   "metadata": {},
   "outputs": [
    {
     "name": "stdout",
     "output_type": "stream",
     "text": [
      "geo: lat: -0.24, lon: 2.71, alt: 419816.218614\n"
     ]
    }
   ],
   "source": [
    "from org.orekit.bodies import OneAxisEllipsoid\n",
    "from org.orekit.utils import Constants\n",
    "\n",
    "# convert to geodetic coordinates\n",
    "earth = OneAxisEllipsoid(\n",
    "    Constants.WGS84_EARTH_EQUATORIAL_RADIUS,\n",
    " \tConstants.WGS84_EARTH_FLATTENING,\n",
    "    ecef\n",
    ")\n",
    "geo_position = earth.transform(position, frame, epoch)\n",
    "print(\"geo: lat: {:.2f}, lon: {:.2f}, alt: {:2f}\".format(\n",
    "    math.degrees(geo_position.getLatitude()),\n",
    "    math.degrees(geo_position.getLongitude()),\n",
    "    geo_position.getAltitude()\n",
    "))\n"
   ]
  },
  {
   "cell_type": "code",
   "execution_count": 9,
   "metadata": {},
   "outputs": [],
   "source": [
    "from orekit.pyhelpers import absolutedate_to_datetime, datetime_to_absolutedate\n",
    "import datetime\n",
    "\n",
    "# do a simple propagation\n",
    "lat = []\n",
    "lon = []\n",
    "time = absolutedate_to_datetime(tle.getDate())\n",
    "end_time = time + datetime.timedelta(hours=4)\n",
    "while time < end_time:\n",
    "    time = time + datetime.timedelta(minutes=1)\n",
    "    coords = propagator.getPVCoordinates(datetime_to_absolutedate(time))\n",
    "    position = coords.getPosition()\n",
    "    geo_position = earth.transform(position, frame, datetime_to_absolutedate(time))\n",
    "    lat.append(math.degrees(geo_position.getLatitude()))\n",
    "    lon.append(math.degrees(geo_position.getLongitude()))\n"
   ]
  },
  {
   "cell_type": "code",
   "execution_count": 10,
   "metadata": {},
   "outputs": [
    {
     "data": {
      "image/png": "[encoded data removed]",
      "text/plain": [
       "<Figure size 432x288 with 1 Axes>"
      ]
     },
     "metadata": {
      "needs_background": "light"
     },
     "output_type": "display_data"
    }
   ],
   "source": [
    "import matplotlib.pyplot as plt\n",
    "\n",
    "# plot the results\n",
    "plt.figure()\n",
    "plt.plot(lon, lat, '.r')\n",
    "plt.xlabel('Longitude')\n",
    "plt.ylabel('Latitude')\n",
    "plt.savefig('propagation.png')\n"
   ]
  },
  {
   "cell_type": "code",
   "execution_count": null,
   "metadata": {},
   "outputs": [],
   "source": []
  }
 ],
 "metadata": {
  "kernelspec": {
   "display_name": "Python 3",
   "language": "python",
   "name": "python3"
  },
  "language_info": {
   "codemirror_mode": {
    "name": "ipython",
    "version": 3
   },
   "file_extension": ".py",
   "mimetype": "text/x-python",
   "name": "python",
   "nbconvert_exporter": "python",
   "pygments_lexer": "ipython3",
   "version": "3.7.4"
  }
 },
 "nbformat": 4,
 "nbformat_minor": 4
}
