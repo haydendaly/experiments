{
 "cells": [
  {
   "cell_type": "code",
   "execution_count": 6,
   "id": "2de14595",
   "metadata": {},
   "outputs": [],
   "source": [
    "import matplotlib.pyplot as plt\n",
    "import numpy as np\n",
    "import cv2"
   ]
  },
  {
   "cell_type": "code",
   "execution_count": 7,
   "id": "1fce3924",
   "metadata": {},
   "outputs": [],
   "source": [
    "def preprocess_k_means(img):\n",
    "    img = cv2.cvtColor(img, cv2.COLOR_BGR2RGB)\n",
    "    twoDImage = img.reshape((-1,3))\n",
    "    return np.float32(twoDImage)"
   ]
  },
  {
   "cell_type": "code",
   "execution_count": 8,
   "id": "783192ba",
   "metadata": {},
   "outputs": [],
   "source": [
    "criteria = (cv2.TERM_CRITERIA_EPS + cv2.TERM_CRITERIA_MAX_ITER, 10, 1.0)\n",
    "K = 2\n",
    "attempts=10\n",
    "\n",
    "def k_means_segmentation(img):\n",
    "    ret,label,center=cv2.kmeans(img,K,None,criteria,attempts,cv2.KMEANS_PP_CENTERS)\n",
    "    center = np.uint8(center)\n",
    "    return center[label.flatten()].reshape((img.shape))"
   ]
  },
  {
   "cell_type": "code",
   "execution_count": 9,
   "id": "61cf71a2",
   "metadata": {},
   "outputs": [],
   "source": [
    "paths = [\"./images/1999_base_first_edition_4_10.webp\", \"./images/2016_japan_promo_282.jpeg\"]"
   ]
  },
  {
   "cell_type": "code",
   "execution_count": 10,
   "id": "7e060673",
   "metadata": {},
   "outputs": [
    {
     "data": {
      "text/plain": [
       "[array([[196, 192, 177],\n",
       "        [196, 192, 177],\n",
       "        [196, 192, 177],\n",
       "        ...,\n",
       "        [196, 192, 177],\n",
       "        [196, 192, 177],\n",
       "        [196, 192, 177]], dtype=uint8)]"
      ]
     },
     "execution_count": 10,
     "metadata": {},
     "output_type": "execute_result"
    },
    {
     "data": {
      "image/png": "[encoded data removed]",
      "text/plain": [
       "<Figure size 432x288 with 1 Axes>"
      ]
     },
     "metadata": {
      "needs_background": "light"
     },
     "output_type": "display_data"
    }
   ],
   "source": [
    "def k_means_process_images(paths, debug = False):\n",
    "    result = []\n",
    "    for path in paths:\n",
    "        base_img = cv2.imread(path)\n",
    "        processed_img = preprocess_k_means(base_img)\n",
    "        img_segmented = k_means_segmentation(processed_img)\n",
    "        result.append(img_segmented)\n",
    "        if debug:\n",
    "            plt.imshow(processed_img)\n",
    "    return result\n",
    "\n",
    "k_means_process_images([paths[1]], True)"
   ]
  },
  {
   "cell_type": "code",
   "execution_count": 11,
   "id": "faeecf91",
   "metadata": {},
   "outputs": [],
   "source": [
    "def contour_preprocess(img):\n",
    "    gray = cv2.cvtColor(img, cv2.COLOR_RGB2GRAY)\n",
    "    _,thresh = cv2.threshold(gray, np.mean(gray), 255, cv2.THRESH_BINARY_INV)\n",
    "    return cv2.dilate(cv2.Canny(thresh, 0, 255), None)"
   ]
  },
  {
   "cell_type": "code",
   "execution_count": 12,
   "id": "bf2eca81",
   "metadata": {},
   "outputs": [],
   "source": [
    "def detect_contours(edges):\n",
    "    cnt = sorted(cv2.findContours(edges, cv2.RETR_LIST, cv2.CHAIN_APPROX_SIMPLE)[-2], key=cv2.contourArea)[-1]\n",
    "    mask = np.zeros((256,256), np.uint8)\n",
    "    return cv2.drawContours(mask, [cnt],-1, 255, -1)"
   ]
  },
  {
   "cell_type": "code",
   "execution_count": 13,
   "id": "8c9d09c6",
   "metadata": {},
   "outputs": [],
   "source": [
    "def segment_regions(img, mask):\n",
    "    dst = cv2.bitwise_and(img, img, mask=mask)\n",
    "    return cv2.cvtColor(dst, cv2.COLOR_BGR2RGB)"
   ]
  },
  {
   "cell_type": "code",
   "execution_count": 14,
   "id": "eb347e55",
   "metadata": {},
   "outputs": [
    {
     "ename": "error",
     "evalue": "OpenCV(4.5.5) /Users/xperience/actions-runner/_work/opencv-python/opencv-python/opencv/modules/core/src/arithm.cpp:230: error: (-215:Assertion failed) (mtype == CV_8U || mtype == CV_8S) && _mask.sameSize(*psrc1) in function 'binary_op'\n",
     "output_type": "error",
     "traceback": [
      "\u001b[0;31m---------------------------------------------------------------------------\u001b[0m",
      "\u001b[0;31merror\u001b[0m                                     Traceback (most recent call last)",
      "Input \u001b[0;32mIn [14]\u001b[0m, in \u001b[0;36m<module>\u001b[0;34m\u001b[0m\n\u001b[1;32m     10\u001b[0m             plt\u001b[38;5;241m.\u001b[39mimshow(img_segmented)\n\u001b[1;32m     11\u001b[0m     \u001b[38;5;28;01mreturn\u001b[39;00m result\n\u001b[0;32m---> 13\u001b[0m \u001b[43mcontour_process_images\u001b[49m\u001b[43m(\u001b[49m\u001b[43m[\u001b[49m\u001b[43mpaths\u001b[49m\u001b[43m[\u001b[49m\u001b[38;5;241;43m0\u001b[39;49m\u001b[43m]\u001b[49m\u001b[43m]\u001b[49m\u001b[43m,\u001b[49m\u001b[43m \u001b[49m\u001b[38;5;28;43;01mTrue\u001b[39;49;00m\u001b[43m)\u001b[49m\n",
      "Input \u001b[0;32mIn [14]\u001b[0m, in \u001b[0;36mcontour_process_images\u001b[0;34m(paths, debug)\u001b[0m\n\u001b[1;32m      5\u001b[0m edges \u001b[38;5;241m=\u001b[39m contour_preprocess(base_img)\n\u001b[1;32m      6\u001b[0m mask \u001b[38;5;241m=\u001b[39m detect_contours(edges)\n\u001b[0;32m----> 7\u001b[0m img_segmented \u001b[38;5;241m=\u001b[39m \u001b[43msegment_regions\u001b[49m\u001b[43m(\u001b[49m\u001b[43mbase_img\u001b[49m\u001b[43m,\u001b[49m\u001b[43m \u001b[49m\u001b[43mmask\u001b[49m\u001b[43m)\u001b[49m\n\u001b[1;32m      8\u001b[0m result\u001b[38;5;241m.\u001b[39mappend(img_segmented)\n\u001b[1;32m      9\u001b[0m \u001b[38;5;28;01mif\u001b[39;00m debug:\n",
      "Input \u001b[0;32mIn [13]\u001b[0m, in \u001b[0;36msegment_regions\u001b[0;34m(img, mask)\u001b[0m\n\u001b[1;32m      1\u001b[0m \u001b[38;5;28;01mdef\u001b[39;00m \u001b[38;5;21msegment_regions\u001b[39m(img, mask):\n\u001b[0;32m----> 2\u001b[0m     dst \u001b[38;5;241m=\u001b[39m \u001b[43mcv2\u001b[49m\u001b[38;5;241;43m.\u001b[39;49m\u001b[43mbitwise_and\u001b[49m\u001b[43m(\u001b[49m\u001b[43mimg\u001b[49m\u001b[43m,\u001b[49m\u001b[43m \u001b[49m\u001b[43mimg\u001b[49m\u001b[43m,\u001b[49m\u001b[43m \u001b[49m\u001b[43mmask\u001b[49m\u001b[38;5;241;43m=\u001b[39;49m\u001b[43mmask\u001b[49m\u001b[43m)\u001b[49m\n\u001b[1;32m      3\u001b[0m     \u001b[38;5;28;01mreturn\u001b[39;00m cv2\u001b[38;5;241m.\u001b[39mcvtColor(dst, cv2\u001b[38;5;241m.\u001b[39mCOLOR_BGR2RGB)\n",
      "\u001b[0;31merror\u001b[0m: OpenCV(4.5.5) /Users/xperience/actions-runner/_work/opencv-python/opencv-python/opencv/modules/core/src/arithm.cpp:230: error: (-215:Assertion failed) (mtype == CV_8U || mtype == CV_8S) && _mask.sameSize(*psrc1) in function 'binary_op'\n"
     ]
    }
   ],
   "source": [
    "def contour_process_images(paths, debug = False):\n",
    "    result = []\n",
    "    for path in paths:\n",
    "        base_img = cv2.imread(path)\n",
    "        edges = contour_preprocess(base_img)\n",
    "        mask = detect_contours(edges)\n",
    "        img_segmented = segment_regions(base_img, mask)\n",
    "        result.append(img_segmented)\n",
    "        if debug:\n",
    "            plt.imshow(img_segmented)\n",
    "    return result\n",
    "\n",
    "contour_process_images([paths[0]], True)"
   ]
  },
  {
   "cell_type": "code",
   "execution_count": null,
   "id": "a0f20c5c",
   "metadata": {},
   "outputs": [],
   "source": []
  }
 ],
 "metadata": {
  "kernelspec": {
   "display_name": "ml3",
   "language": "python",
   "name": "ml3"
  },
  "language_info": {
   "codemirror_mode": {
    "name": "ipython",
    "version": 3
   },
   "file_extension": ".py",
   "mimetype": "text/x-python",
   "name": "python",
   "nbconvert_exporter": "python",
   "pygments_lexer": "ipython3",
   "version": "3.9.10"
  }
 },
 "nbformat": 4,
 "nbformat_minor": 5
}
