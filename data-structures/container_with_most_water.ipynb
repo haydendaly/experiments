{
 "cells": [
  {
   "cell_type": "code",
   "execution_count": 1,
   "id": "international-vacation",
   "metadata": {},
   "outputs": [],
   "source": [
    "def maxArea(height):\n",
    "    l = len(height)\n",
    "    max_area = 0\n",
    "    for i in range(l):\n",
    "        for j in range(i, l):\n",
    "            max_area = max(max_area, (j - i)*min(height[j], height[i]))\n",
    "    return max_area"
   ]
  },
  {
   "cell_type": "code",
   "execution_count": 2,
   "id": "alike-destruction",
   "metadata": {},
   "outputs": [
    {
     "data": {
      "text/plain": [
       "1"
      ]
     },
     "execution_count": 2,
     "metadata": {},
     "output_type": "execute_result"
    }
   ],
   "source": [
    "maxArea([1,1])"
   ]
  },
  {
   "cell_type": "code",
   "execution_count": 3,
   "id": "endless-manhattan",
   "metadata": {},
   "outputs": [
    {
     "data": {
      "text/plain": [
       "49"
      ]
     },
     "execution_count": 3,
     "metadata": {},
     "output_type": "execute_result"
    }
   ],
   "source": [
    "maxArea([1,8,6,2,5,4,8,3,7])"
   ]
  },
  {
   "cell_type": "code",
   "execution_count": 7,
   "id": "covered-blues",
   "metadata": {},
   "outputs": [],
   "source": [
    "def maxArea(height):\n",
    "    l = len(height)\n",
    "    i, j = 0, l - 1\n",
    "    max_area = 0\n",
    "    while i != j:\n",
    "        max_area = max(max_area, (j - i)*min(height[j], height[i]))\n",
    "        if height[i] > height[j]:\n",
    "            j -= 1\n",
    "        else:\n",
    "            i += 1\n",
    "    return max_area"
   ]
  },
  {
   "cell_type": "code",
   "execution_count": 8,
   "id": "incredible-poetry",
   "metadata": {},
   "outputs": [
    {
     "data": {
      "text/plain": [
       "49"
      ]
     },
     "execution_count": 8,
     "metadata": {},
     "output_type": "execute_result"
    }
   ],
   "source": [
    "maxArea([1,8,6,2,5,4,8,3,7])"
   ]
  },
  {
   "cell_type": "code",
   "execution_count": null,
   "id": "western-least",
   "metadata": {},
   "outputs": [],
   "source": []
  }
 ],
 "metadata": {
  "kernelspec": {
   "display_name": "Python 3",
   "language": "python",
   "name": "python3"
  },
  "language_info": {
   "codemirror_mode": {
    "name": "ipython",
    "version": 3
   },
   "file_extension": ".py",
   "mimetype": "text/x-python",
   "name": "python",
   "nbconvert_exporter": "python",
   "pygments_lexer": "ipython3",
   "version": "3.9.6"
  }
 },
 "nbformat": 4,
 "nbformat_minor": 5
}
