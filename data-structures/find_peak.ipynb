{
 "cells": [
  {
   "cell_type": "code",
   "execution_count": 44,
   "id": "medical-richmond",
   "metadata": {},
   "outputs": [],
   "source": [
    "def find_peak(A):\n",
    "    l = len(A) - 1\n",
    "    i, j = 0, l\n",
    "    while i < j:\n",
    "        mid = (i + j) // 2\n",
    "        if A[mid] < A[mid+1]:\n",
    "            i = mid + 1\n",
    "        else:\n",
    "            j = mid\n",
    "    return i"
   ]
  },
  {
   "cell_type": "code",
   "execution_count": 45,
   "id": "strong-preview",
   "metadata": {},
   "outputs": [
    {
     "name": "stdout",
     "output_type": "stream",
     "text": [
      "5\n",
      "2\n"
     ]
    }
   ],
   "source": [
    "print(find_peak([1,2,1,3,5,6,4]))\n",
    "print(find_peak([1,2,3,1]))"
   ]
  },
  {
   "cell_type": "code",
   "execution_count": 48,
   "id": "taken-wallace",
   "metadata": {},
   "outputs": [],
   "source": [
    "import unittest\n",
    "\n",
    "class TestNotebook(unittest.TestCase):\n",
    "    def test_no_peak(self):\n",
    "        seq = [1,1,1]\n",
    "        self.assertEqual(find_peak(seq), 0)\n",
    "    def test_empty(self):\n",
    "        seq = []\n",
    "        self.assertEqual(find_peak(seq), 0)\n",
    "    def test_reg(self):\n",
    "        seq = [1,2,1,3,5,6,4]\n",
    "        self.assertEqual(find_peak(seq), 5)"
   ]
  },
  {
   "cell_type": "code",
   "execution_count": 49,
   "id": "hawaiian-karma",
   "metadata": {},
   "outputs": [
    {
     "name": "stderr",
     "output_type": "stream",
     "text": [
      "test_empty (__main__.TestNotebook) ... ok\n",
      "test_no_peak (__main__.TestNotebook) ... ok\n",
      "test_reg (__main__.TestNotebook) ... ok\n",
      "\n",
      "----------------------------------------------------------------------\n",
      "Ran 3 tests in 0.002s\n",
      "\n",
      "OK\n"
     ]
    },
    {
     "data": {
      "text/plain": [
       "<unittest.main.TestProgram at 0x10c3a0a60>"
      ]
     },
     "execution_count": 49,
     "metadata": {},
     "output_type": "execute_result"
    }
   ],
   "source": [
    "unittest.main(argv=[''], verbosity=2, exit=False)"
   ]
  },
  {
   "cell_type": "code",
   "execution_count": null,
   "id": "forbidden-overhead",
   "metadata": {},
   "outputs": [],
   "source": []
  }
 ],
 "metadata": {
  "kernelspec": {
   "display_name": "Python 3",
   "language": "python",
   "name": "python3"
  },
  "language_info": {
   "codemirror_mode": {
    "name": "ipython",
    "version": 3
   },
   "file_extension": ".py",
   "mimetype": "text/x-python",
   "name": "python",
   "nbconvert_exporter": "python",
   "pygments_lexer": "ipython3",
   "version": "3.9.6"
  }
 },
 "nbformat": 4,
 "nbformat_minor": 5
}
