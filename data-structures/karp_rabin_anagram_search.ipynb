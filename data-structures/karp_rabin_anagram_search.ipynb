{
 "cells": [
  {
   "cell_type": "code",
   "execution_count": 1,
   "metadata": {},
   "outputs": [],
   "source": [
    "def findAnagramSubstring(full, sub):\n",
    "    \"\"\"\n",
    "    full: string being searched\n",
    "    sub: string composition being searched for\n",
    "    return: [(startIdx, endIdx), ...] or -1 if error\n",
    "    \"\"\"\n",
    "    \n",
    "    if (len(sub) > len(full)):\n",
    "        return -1\n",
    "    \n",
    "    chars, count, charSum, tempSum, anagrams = {}, 0, 0, 0, []\n",
    "    \n",
    "    # o(n)\n",
    "    for char in full:\n",
    "        if char not in chars:\n",
    "            chars[char] = 2**count\n",
    "            count += 1\n",
    "    \n",
    "    # o(k)\n",
    "    for i in range(len(sub)):\n",
    "        tempSum += chars[full[i]]     \n",
    "        charSum += chars[sub[i]]\n",
    "        \n",
    "    # o(n - k)\n",
    "    for i in range(len(full) - len(sub)):\n",
    "        if tempSum == charSum:\n",
    "            anagrams.append((i, i + len(sub)))\n",
    "        tempSum = tempSum - chars[full[i]] + chars[full[i + len(sub)]]\n",
    "    \n",
    "    return anagrams"
   ]
  },
  {
   "cell_type": "code",
   "execution_count": 2,
   "metadata": {},
   "outputs": [
    {
     "data": {
      "text/plain": [
       "[(17, 21), (116, 120), (186, 190)]"
      ]
     },
     "execution_count": 2,
     "metadata": {},
     "output_type": "execute_result"
    }
   ],
   "source": [
    "findAnagramSubstring('Please note, the test site finder is not exhaustive and does not represent a state-sponsored registry of legitimate testing sites. It is intended for use by New Jersey residents seeking testing site locations and is not intended for any other purpose.', 'estt')"
   ]
  },
  {
   "cell_type": "markdown",
   "metadata": {},
   "source": [
    "# Problem\n",
    "\n",
    "Given a matrix of size m by n full of chars (so actually an array of equal length strings) and a submatrix of size j, k full of chars where j <= m and k <= n, find the coordinates of all submatrices which have an anagram of those chars.\n",
    "\n",
    "```py\n",
    "full = [ \"abcd\", \"efgh\", \"ijhk\", \"lmno\", \"pqrs\" ] # m=5, m=4\n",
    "sub  = [ \"cb\", \"gf\" ] # j=2, k=2\n",
    "```\n",
    "\n",
    "So this input would respond with the tuple `(1, 0)`\n",
    "\n",
    "## Progress\n",
    "O(n^4*(n^2)!) - Brute force\n",
    "O(n^4) - Brute force with hash table\n",
    "O(n^3) - Amortized senteniel matrix (Rabin-Karp or KMP algorithms)\n",
    "\n",
    "## Future\n",
    "O(n^2) - Use object for senteniel like and have fields for corners and edges which would be constant time to update. Then navigate in a criss cross pattern like\n",
    "\n",
    "```\n",
    "##00 0##0 00## 0000 0000\n",
    "##00 0##0 00## 00## 0##0\n",
    "0000 0000 0000 00## 0##0\n",
    "0000 0000 0000 0000 0000 ...\n",
    "```"
   ]
  },
  {
   "cell_type": "code",
   "execution_count": null,
   "metadata": {},
   "outputs": [],
   "source": []
  },
  {
   "cell_type": "code",
   "execution_count": 191,
   "metadata": {},
   "outputs": [
    {
     "name": "stdout",
     "output_type": "stream",
     "text": [
      "['a', 'b', 'd', 'e'] 27 5 24 False\n",
      "['b', 'c', 'e', 'f'] 54 4 16 False\n",
      "['c', 'd', 'f', 'g'] 108 0 0 False\n",
      "['d', 'e', 'g', 'h'] 216 3 192 False\n",
      "['e', 'f', 'h', 'i'] 432 2 128 False\n",
      "['f', 'g', 'i', 'j'] 864 0 0 False\n",
      "['g', 'h', 'j', 'k'] 1728 24 1536 False\n",
      "['h', 'i', 'k', 'l'] 3456 16 1024 False\n",
      "['i', 'j', 'l', 'm'] 6912 0 0 False\n",
      "['j', 'k', 'a', 'c'] 1541 192 5 False\n",
      "['k', 'l', 'c', 'a'] 3077 128 4 False\n",
      "['l', 'm', 'a', 'b'] 6147 0 0 False\n",
      "['a', 'c', 'a', 'c'] 10 1536 5 False\n",
      "['c', 'a', 'c', 'a'] 10 1024 4 False\n",
      "['a', 'b', 'a', 'b'] 6 0 0 False\n"
     ]
    },
    {
     "data": {
      "text/plain": [
       "[(0, 4), (1, 4)]"
      ]
     },
     "execution_count": 191,
     "metadata": {},
     "output_type": "execute_result"
    }
   ],
   "source": [
    "def isValid(full, sub):\n",
    "    fullLen, subLen = False, False\n",
    "    if len(sub) > len(full):\n",
    "        return False\n",
    "    for arr in full:\n",
    "        if not fullLen:\n",
    "            fullLen = len(arr)\n",
    "        else:\n",
    "            if fullLen != len(arr):\n",
    "                return False\n",
    "    for arr in sub:\n",
    "        if not subLen:\n",
    "            subLen = len(arr)\n",
    "        else:\n",
    "            if subLen != len(arr):\n",
    "                return False\n",
    "    if subLen > fullLen:\n",
    "        return False\n",
    "    return True\n",
    "\n",
    "# avg: o(n^3) amortized time: o(n^4)\n",
    "def findAnagramSubmatrix(full, sub):\n",
    "    \"\"\"\n",
    "    full: array of equal length strings\n",
    "    sub: array of string compositions to be searched for\n",
    "    return: [(startX, startY), ...] or -1 if error\n",
    "    \"\"\"\n",
    "    # check the input shapes are valid\n",
    "    if not isValid(full, sub):\n",
    "        return -1\n",
    "    \n",
    "    # init variables\n",
    "    chars, count, charSum, tempSum, anagrams, subLen = {}, 0, 0, 0, [], False\n",
    "    \n",
    "    # initializes dict \n",
    "    # o(fullX*fullY)\n",
    "    for arr in full:\n",
    "        for char in arr:\n",
    "            if char not in chars:\n",
    "                chars[char] = 2**count\n",
    "                count += 1\n",
    "    \n",
    "    # gets length of sub matrix string and charSum\n",
    "    # o(subX*subY)\n",
    "    for arr in range(len(sub)):\n",
    "        if not subLen:\n",
    "            subLen = len(sub[arr])\n",
    "        for char in sub[arr]:\n",
    "            charSum += chars[char]\n",
    "            \n",
    "    # returns sum for amortized position (y == 0)\n",
    "    # o(subX*subY)\n",
    "    def getSum(y, x):\n",
    "        tempSum = 0\n",
    "        for arr in full[y:y+len(sub)]:\n",
    "            for char in arr[x:x+subLen]:\n",
    "                tempSum += chars[char]\n",
    "        return tempSum\n",
    "    \n",
    "    # returns sum of of row\n",
    "    # o(subX)\n",
    "    def rowSum(y, x):\n",
    "        tempSum = 0\n",
    "        for char in full[y][x:subLen]:\n",
    "            tempSum += chars[char]\n",
    "        return tempSum\n",
    "    \n",
    "    def printSub(y, x):\n",
    "        tempArr = []\n",
    "        tempSum = 0\n",
    "        row1 = rowSum(y - 1, x)\n",
    "        row2 = rowSum(y + len(sub) - 1, x)\n",
    "        for arr in full[y:y+len(sub)]:\n",
    "            for char in arr[x:x+subLen]:\n",
    "                tempArr.append(char)\n",
    "                tempSum += chars[char]\n",
    "        print(tempArr, tempSum, row1, row2, row1+row2 == tempSum)\n",
    "            \n",
    "    # avg: o((fullX - subX)*(fullY - subY)*subX) = o(n^3)\n",
    "    # amortization step: o((fullX - subX)*(fullY - subY)*subX*subY) = o(n^4)\n",
    "    for y in range(len(full) - len(sub) + 1):\n",
    "        for x in range(len(full[y]) - subLen + 1):\n",
    "            printSub(y, x)\n",
    "            if y == 0:\n",
    "                tempSum = getSum(y, x)\n",
    "            else:\n",
    "                tempSum = getSum(y, x)\n",
    "            if tempSum == charSum:\n",
    "                anagrams.append((x, y))\n",
    "\n",
    "    return anagrams\n",
    "\n",
    "### usage\n",
    "findAnagramSubmatrix([\"abcd\",\"defg\",\"ghij\", \"jklm\", \"acab\", \"acab\"], [\"ac\", \"ac\"])"
   ]
  }
 ],
 "metadata": {
  "kernelspec": {
   "display_name": "Python 3",
   "language": "python",
   "name": "python3"
  },
  "language_info": {
   "codemirror_mode": {
    "name": "ipython",
    "version": 3
   },
   "file_extension": ".py",
   "mimetype": "text/x-python",
   "name": "python",
   "nbconvert_exporter": "python",
   "pygments_lexer": "ipython3",
   "version": "3.7.6"
  }
 },
 "nbformat": 4,
 "nbformat_minor": 2
}
