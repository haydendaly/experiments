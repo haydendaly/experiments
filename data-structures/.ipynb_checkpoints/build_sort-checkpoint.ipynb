{
 "cells": [
  {
   "cell_type": "markdown",
   "id": "dynamic-offer",
   "metadata": {},
   "source": [
    "# Approach\n",
    "\n",
    "Construct array of most recent values for each key and then sort by maximum.\n",
    "\n",
    "## Space\n",
    "\n",
    "O(n) because merged object and tehn array\n",
    "\n",
    "## Time\n",
    "\n",
    "O(n*logn) because the sort"
   ]
  },
  {
   "cell_type": "code",
   "execution_count": 1,
   "id": "allied-reduction",
   "metadata": {},
   "outputs": [],
   "source": [
    "# Given input of builds and publishes\n",
    "# builds: [ A - 11am, B - 9am, C - 7am … ] (timestamps)\n",
    "# publishes: [ D - 10am, A - 8am ...]\n",
    "builds = [{ 'key': 'A', 't': 11 }, { 'key': 'B', 't': 9 }, { 'key': 'C', 't': 7 }]\n",
    "publishes = [{ 'key': 'D', 't': 10 }, { 'key': 'A', 't': 8 }]"
   ]
  },
  {
   "cell_type": "code",
   "execution_count": 2,
   "id": "boxed-literacy",
   "metadata": {},
   "outputs": [
    {
     "name": "stdout",
     "output_type": "stream",
     "text": [
      "[{'build': 11, 'publish': 8, 'key': 'A'}, {'publish': 10, 'key': 'D'}, {'build': 9, 'key': 'B'}, {'build': 7, 'key': 'C'}]\n"
     ]
    }
   ],
   "source": [
    "# could cache this in redis, in python, could use @lru_cache\n",
    "def get_log(builds, publishes):\n",
    "    # construct dict of most recent entries\n",
    "    merged = dict()\n",
    "    for build in builds:\n",
    "        key = build['key']\n",
    "        if key not in merged:\n",
    "            merged[key] = { 'build': build['t'] }\n",
    "        else:\n",
    "            merged[key]['build'] = max(build['t'], merged[key]['build'])\n",
    "    for publish in publishes:\n",
    "        key = publish['key']\n",
    "        if key not in merged:\n",
    "            # publishes don't exist without builds so this should never happen in practice\n",
    "            merged[key] = { 'publish': publish['t']}\n",
    "        else:\n",
    "            prev = merged[key]['publish'] if 'publish' in merged[key] else 0\n",
    "            merged[key]['publish'] = max(publish['t'], prev)\n",
    "            \n",
    "    # convert merged dict to array\n",
    "    result = []\n",
    "    for key, value in merged.items():\n",
    "        value['key'] = key\n",
    "        result.append(value)\n",
    "    \n",
    "    # return array sorted by max build or publish\n",
    "    return sorted(\n",
    "        result, \n",
    "        # use nullish coalescing\n",
    "        key=lambda x: max(x['build'] if 'build' in x else 0, x['publish'] if 'publish' in x else 0), \n",
    "        reverse=True\n",
    "    )\n",
    "        \n",
    "print(get_log(builds, publishes))"
   ]
  },
  {
   "cell_type": "code",
   "execution_count": 3,
   "id": "democratic-offense",
   "metadata": {},
   "outputs": [],
   "source": [
    "def get_page(pageSize, pageNum):\n",
    "    log = get_log(builds, publishes)\n",
    "    if pageSize * pageNum > len(log):\n",
    "        return []\n",
    "    elif pageNum == len(log) // pageSize:\n",
    "        return log[pageNum*pageSize:]\n",
    "    else:\n",
    "        return log[pageSize*pageNum:pageSize*(pageNum+1)]\n",
    "        "
   ]
  },
  {
   "cell_type": "code",
   "execution_count": 4,
   "id": "activated-compatibility",
   "metadata": {},
   "outputs": [
    {
     "name": "stdout",
     "output_type": "stream",
     "text": [
      "[{'build': 11, 'publish': 8, 'key': 'A'}, {'publish': 10, 'key': 'D'}, {'build': 9, 'key': 'B'}]\n",
      "[{'build': 7, 'key': 'C'}]\n",
      "[{'build': 11, 'publish': 8, 'key': 'A'}, {'publish': 10, 'key': 'D'}, {'build': 9, 'key': 'B'}, {'build': 7, 'key': 'C'}]\n",
      "[]\n"
     ]
    }
   ],
   "source": [
    "print(get_page(3, 0))\n",
    "print(get_page(3, 1))\n",
    "print(get_page(5, 0))\n",
    "print(get_page(5, 1))"
   ]
  }
 ],
 "metadata": {
  "kernelspec": {
   "display_name": "Python 3",
   "language": "python",
   "name": "python3"
  },
  "language_info": {
   "codemirror_mode": {
    "name": "ipython",
    "version": 3
   },
   "file_extension": ".py",
   "mimetype": "text/x-python",
   "name": "python",
   "nbconvert_exporter": "python",
   "pygments_lexer": "ipython3",
   "version": "3.9.6"
  }
 },
 "nbformat": 4,
 "nbformat_minor": 5
}
