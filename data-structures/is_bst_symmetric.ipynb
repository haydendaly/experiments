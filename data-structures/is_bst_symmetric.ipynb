{
 "cells": [
  {
   "cell_type": "code",
   "execution_count": 54,
   "metadata": {},
   "outputs": [],
   "source": [
    "class Node:\n",
    "    def __init__(self, data=None, left=None, right=None):\n",
    "        self.data = data\n",
    "        if data != None:\n",
    "            self.left, self.right = Node(left), Node(right)\n",
    "    def __repr__(self):\n",
    "        if self.data != None:\n",
    "            return str(self.data) + \" (\" + str(self.left) + \", \" + str(self.right) + \") \" \n",
    "        else:\n",
    "            return \"None\"\n",
    "    def print(self):\n",
    "        print(str(self.data))"
   ]
  },
  {
   "cell_type": "code",
   "execution_count": 70,
   "metadata": {},
   "outputs": [],
   "source": [
    "x = Node(1, Node(2), Node(2))"
   ]
  },
  {
   "cell_type": "code",
   "execution_count": 71,
   "metadata": {},
   "outputs": [
    {
     "name": "stdout",
     "output_type": "stream",
     "text": [
      "1 (2 (None, None)  (None, None) , 2 (None, None)  (None, None) ) \n"
     ]
    }
   ],
   "source": [
    "print(x)"
   ]
  },
  {
   "cell_type": "code",
   "execution_count": 72,
   "metadata": {},
   "outputs": [],
   "source": [
    "def isSymmetric(root):\n",
    "    return symHelper(root.left, root.right)\n",
    "\n",
    "def symHelper(node1, node2):\n",
    "    if (node1.data == None and node2.data == None):\n",
    "        return True\n",
    "    if (node1.data == None or node2.data == None):\n",
    "        return False\n",
    "    return symHelper(node1.left, node2.right) and symHelper(node1.right, node2.left)"
   ]
  },
  {
   "cell_type": "code",
   "execution_count": 73,
   "metadata": {},
   "outputs": [
    {
     "data": {
      "text/plain": [
       "True"
      ]
     },
     "execution_count": 73,
     "metadata": {},
     "output_type": "execute_result"
    }
   ],
   "source": [
    "isSymmetric(x)"
   ]
  },
  {
   "cell_type": "code",
   "execution_count": 75,
   "metadata": {},
   "outputs": [],
   "source": [
    "class SNode:\n",
    "    def __init__(self, val):\n",
    "        self.data = val\n",
    "        self.left, self.right = None, None\n",
    "        \n",
    "def insert(value, node):\n",
    "    if value < node.data:\n",
    "        if node.left == None:\n",
    "            node.left = SNode(value)\n",
    "        else:\n",
    "            print(\"Left\")\n",
    "            insert(value, node.left)\n",
    "    else:\n",
    "        if node.right == None:\n",
    "            node.right = SNode(value)\n",
    "        else:\n",
    "            print(\"Right\")\n",
    "            insert(value, node.right)\n",
    "    return\n",
    "\n",
    "def search(value, node):\n",
    "    if value == node.data:\n",
    "        return (True, node)\n",
    "    else:\n",
    "        if value < node.data:\n",
    "            if node.left == None:\n",
    "                return False\n",
    "            else:\n",
    "                search(value, node.left)\n",
    "        else:\n",
    "            if node.right == None:\n",
    "                return False\n",
    "            else:\n",
    "                search(value, node.right)\n",
    "                \n",
    "def Ssearch(value, node):\n",
    "    if value == node.data:\n",
    "        return True\n",
    "    if value < node.data and node.left == None:\n",
    "        return False\n",
    "    if value >= node.data and node.right == None:\n",
    "        return False\n",
    "    if value != node.data and node.left == None and node.right == None:\n",
    "        return False\n",
    "    else:\n",
    "        if value < node.data:\n",
    "            return Ssearch(value, node.left)\n",
    "        elif value >= node.data:\n",
    "            return Ssearch(value,node.right)"
   ]
  },
  {
   "cell_type": "code",
   "execution_count": 77,
   "metadata": {},
   "outputs": [],
   "source": [
    "def printSorted(node):\n",
    "    if node.left != None:\n",
    "        printSorted(node.left)\n",
    "    print(node.data)\n",
    "    if node.right != None:\n",
    "        printSorted(node.right)\n",
    "def search(value, node):\n",
    "    if value == node.data:\n",
    "        return True\n",
    "    if value < node.data and node.left == None:\n",
    "        return False\n",
    "    if value >= node.data and node.right == None:\n",
    "        return False\n",
    "    if value != node.data and node.left == None and node.right == None:\n",
    "        return\n",
    "    else:\n",
    "        if value < node.data:\n",
    "            return search(value, node.left)\n",
    "        elif value >= node.data:\n",
    "            return search(value,node.right)\n",
    "def maxNode(node):\n",
    "    if node.right != None:\n",
    "        return maxNode(node.right)\n",
    "    if node.right == None:\n",
    "        return node\n",
    "def minNode(node):\n",
    "    if node.left != None:\n",
    "        return minNode(node.left)\n",
    "    if node.left == None:\n",
    "        return node\n",
    "def deleteChildNode(value, node):\n",
    "    if node.left != None and node.left.data == value:\n",
    "        node.left = None\n",
    "        return \"Node is deleted\"\n",
    "    if node.right != None and node.right.data == value:\n",
    "        node.right = None\n",
    "        return \"Node is deleted\"\n",
    "    else:\n",
    "        if value < node.data:\n",
    "            return deleteChildNode(value, node.left)\n",
    "        elif value >= node.data:\n",
    "            return deleteChildNode(value,node.right)\n",
    "def deleteNode(value, node):\n",
    "    if search(value, node) == False:\n",
    "        return \"Did not find node\"\n",
    "    else:\n",
    "        delete = searchNode(value, node)        \n",
    "        if delete.right != None:\n",
    "            minimum = minNode(delete.right)\n",
    "            delete.data = minimum.data\n",
    "            if minimum.left == None and minimum.right == None:\n",
    "                 if delete.right.data == minimum.data:\n",
    "                    delete.right = None\n",
    "                    return \"Node has been deleted\"\n",
    "                 else:\n",
    "                    return deleteChildNode(minimum.data, delete.right)\n",
    "            if minimum.right != None:\n",
    "                return deleteNone(minimum.right)\n",
    "        if delete.left != None and delete.right == None:\n",
    "            maximum = maxNode(delete.left)\n",
    "            delete.data = maximum.data\n",
    "            if maximum.left == None and maximum.right == None:\n",
    "                if delete.left.data == maximum.data:\n",
    "                    delete.left = None\n",
    "                    return \"Node has been deleted\"\n",
    "                else:\n",
    "                    return deleteChildNode(maximum.data, delete.left)\n",
    "            if maximum.left != None:\n",
    "                return deleteNode(maximum.left)\n",
    "        if delete.left == None and delete.right == None:\n",
    "            return deleteChildNode(value, node)"
   ]
  },
  {
   "cell_type": "code",
   "execution_count": null,
   "metadata": {},
   "outputs": [],
   "source": []
  }
 ],
 "metadata": {
  "kernelspec": {
   "display_name": "Python 3",
   "language": "python",
   "name": "python3"
  },
  "language_info": {
   "codemirror_mode": {
    "name": "ipython",
    "version": 3
   },
   "file_extension": ".py",
   "mimetype": "text/x-python",
   "name": "python",
   "nbconvert_exporter": "python",
   "pygments_lexer": "ipython3",
   "version": "3.7.6"
  }
 },
 "nbformat": 4,
 "nbformat_minor": 2
}
