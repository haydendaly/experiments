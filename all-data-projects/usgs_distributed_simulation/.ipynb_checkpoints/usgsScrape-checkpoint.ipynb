{
 "cells": [
  {
   "cell_type": "code",
   "execution_count": 9,
   "metadata": {},
   "outputs": [
    {
     "data": {
      "text/html": [
       "<div>\n",
       "<style scoped>\n",
       "    .dataframe tbody tr th:only-of-type {\n",
       "        vertical-align: middle;\n",
       "    }\n",
       "\n",
       "    .dataframe tbody tr th {\n",
       "        vertical-align: top;\n",
       "    }\n",
       "\n",
       "    .dataframe thead th {\n",
       "        text-align: right;\n",
       "    }\n",
       "</style>\n",
       "<table border=\"1\" class=\"dataframe\">\n",
       "  <thead>\n",
       "    <tr style=\"text-align: right;\">\n",
       "      <th></th>\n",
       "      <th>agency_cd</th>\n",
       "      <th>site_no</th>\n",
       "      <th>discharge (ft^3/s)</th>\n",
       "      <th>qualification</th>\n",
       "    </tr>\n",
       "    <tr>\n",
       "      <th>datetime</th>\n",
       "      <th></th>\n",
       "      <th></th>\n",
       "      <th></th>\n",
       "      <th></th>\n",
       "    </tr>\n",
       "  </thead>\n",
       "  <tbody>\n",
       "    <tr>\n",
       "      <th>2019-04-01</th>\n",
       "      <td>USGS</td>\n",
       "      <td>11098000</td>\n",
       "      <td>10.9</td>\n",
       "      <td>A</td>\n",
       "    </tr>\n",
       "    <tr>\n",
       "      <th>2019-04-02</th>\n",
       "      <td>USGS</td>\n",
       "      <td>11098000</td>\n",
       "      <td>10.6</td>\n",
       "      <td>A</td>\n",
       "    </tr>\n",
       "    <tr>\n",
       "      <th>2019-04-03</th>\n",
       "      <td>USGS</td>\n",
       "      <td>11098000</td>\n",
       "      <td>10.4</td>\n",
       "      <td>A</td>\n",
       "    </tr>\n",
       "    <tr>\n",
       "      <th>2019-04-04</th>\n",
       "      <td>USGS</td>\n",
       "      <td>11098000</td>\n",
       "      <td>11.5</td>\n",
       "      <td>A</td>\n",
       "    </tr>\n",
       "    <tr>\n",
       "      <th>2019-04-05</th>\n",
       "      <td>USGS</td>\n",
       "      <td>11098000</td>\n",
       "      <td>11.2</td>\n",
       "      <td>A</td>\n",
       "    </tr>\n",
       "  </tbody>\n",
       "</table>\n",
       "</div>"
      ],
      "text/plain": [
       "           agency_cd   site_no  discharge (ft^3/s) qualification\n",
       "datetime                                                        \n",
       "2019-04-01      USGS  11098000                10.9             A\n",
       "2019-04-02      USGS  11098000                10.6             A\n",
       "2019-04-03      USGS  11098000                10.4             A\n",
       "2019-04-04      USGS  11098000                11.5             A\n",
       "2019-04-05      USGS  11098000                11.2             A"
      ]
     },
     "execution_count": 9,
     "metadata": {},
     "output_type": "execute_result"
    }
   ],
   "source": [
    "import pandas as pd\n",
    "\n",
    "df = pd.read_csv('arroyo.csv', index_col=2, sep='\\t')\n",
    "for col in df.columns:\n",
    "    if '8278' in col and 'cd' in col:\n",
    "        df.rename(columns={col: 'qualification'}, inplace=True)\n",
    "    elif '8278' in col:\n",
    "        df.rename(columns={col: 'discharge (ft^3/s)'}, inplace=True)\n",
    "        \n",
    "df.head()\n"
   ]
  },
  {
   "cell_type": "code",
   "execution_count": 11,
   "metadata": {},
   "outputs": [],
   "source": [
    "import zmq\n",
    "import sys\n",
    "import time"
   ]
  },
  {
   "cell_type": "code",
   "execution_count": null,
   "metadata": {},
   "outputs": [],
   "source": [
    "context = zmq.Context()\n",
    "print(\"Connecting to server\")\n",
    "# Open connection Socket on Port 5555\n",
    "socket = context.socket(zmq.PUB)\n",
    "socket.bind(\"tcp://*:5555\")\n",
    "for index, row in df.iterrows():\n",
    "    print(\"Request:\", index)\n",
    "    message = str(row['discharge (ft^3/s)'])\n",
    "    socket.send_multipart([\"message\".encode(), message.encode()])\n",
    "    time.sleep(1)"
   ]
  },
  {
   "cell_type": "code",
   "execution_count": null,
   "metadata": {},
   "outputs": [],
   "source": [
    "context = zmq.Context()\n",
    "# create a SUBSCRIBE socket\n",
    "socket = context.socket(zmq.SUB)\n",
    "# connect the socket to port 5555 on local machine\n",
    "socket.connect(\"tcp://localhost:5555\")\n",
    "# subscribe to messages with the topic `message`\n",
    "socket.subscribe(\"message\")\n",
    "# enter infinite loop (CTRL+PAUSE to escape)\n",
    "while True:\n",
    "    #  wait for next string request from client\n",
    "    topic = socket.recv_string()\n",
    "    message = socket.recv_string()\n",
    "    print(\"Received request: {:s}\".format(message))"
   ]
  },
  {
   "cell_type": "code",
   "execution_count": null,
   "metadata": {},
   "outputs": [],
   "source": []
  }
 ],
 "metadata": {
  "kernelspec": {
   "display_name": "ds",
   "language": "python",
   "name": "ds"
  },
  "language_info": {
   "codemirror_mode": {
    "name": "ipython",
    "version": 3
   },
   "file_extension": ".py",
   "mimetype": "text/x-python",
   "name": "python",
   "nbconvert_exporter": "python",
   "pygments_lexer": "ipython3",
   "version": "3.7.6"
  }
 },
 "nbformat": 4,
 "nbformat_minor": 2
}
