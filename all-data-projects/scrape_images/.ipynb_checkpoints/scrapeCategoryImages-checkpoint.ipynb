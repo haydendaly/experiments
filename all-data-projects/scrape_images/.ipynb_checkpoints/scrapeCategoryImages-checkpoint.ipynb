{
 "cells": [
  {
   "cell_type": "code",
   "execution_count": 4,
   "metadata": {},
   "outputs": [],
   "source": [
    "from PIL import Image\n",
    "import glob"
   ]
  },
  {
   "cell_type": "code",
   "execution_count": 2,
   "metadata": {},
   "outputs": [],
   "source": [
    "import requests\n",
    "categories = requests.get('https://exire-backend.herokuapp.com/plans/getAllCategories').json()"
   ]
  },
  {
   "cell_type": "code",
   "execution_count": 30,
   "metadata": {},
   "outputs": [
    {
     "name": "stdout",
     "output_type": "stream",
     "text": [
      "[{'title': 'Chinese', 'code': 'chinese', 'url': 'https://images2.minutemediacdn.com/image/upload/c_crop,h_695,w_1237,x_0,y_58/f_auto,q_auto,w_1100/v1554992472/shape/mentalfloss/521724-istock-545286388.jpg'}, {'title': 'Burgers', 'code': 'burgers', 'url': 'https://www.tasteofhome.com/wp-content/uploads/2018/01/exps28800_UG143377D12_18_1b_RMS-696x696.jpg'}, {'title': 'Pizza', 'code': 'pizza', 'url': 'https://www.williams-sonoma.com/wsimgs/rk/images/dp/recipe/201935/0004/img1l.jpg'}, {'title': 'Rock Climbing', 'code': 'rockclimbing', 'url': 'https://media.timeout.com/images/103425622/630/472/image.jpg'}, {'title': 'Arcades', 'code': 'arcades', 'url': 'https://cdn.vox-cdn.com/thumbor/seYFBo5tCxUbGwgE7q7oShZvIUU=/0x0:4000x2667/1200x900/filters:focal(1680x1014:2320x1654)/cdn.vox-cdn.com/uploads/chorus_image/image/56631551/shutterstock_636086801.1505195483.jpg'}, {'title': 'Speakeasies', 'code': 'speakeasies', 'url': 'https://blog.noblehousehotels.com/wp-content/uploads/2016/10/Bourbon-Branch_featured.jpg'}, {'title': 'Markets', 'code': 'markets', 'url': 'https://media.guestofaguest.com/t_article_content/gofg-media/2018/03/1/50605/chelsea.jpg'}, {'title': 'Pubs', 'code': 'pubs', 'url': 'https://ichef.bbci.co.uk/wwfeatures/live/624_351/images/live/p0/73/0p/p0730pfm.jpg'}, {'title': 'Barbeque', 'code': 'barbeque', 'url': 'https://www.smokedmeatsunday.com/wp-content/uploads/2019/06/BBQ-Chicken-Lollipops-1024x683.jpg'}, {'title': 'Mexican', 'code': 'mexican', 'url': 'https://cdn.vox-cdn.com/thumbor/n-o6I2U_grf0OeAXY00igRIV2vI=/1400x1400/filters:format(jpeg)/cdn.vox-cdn.com/uploads/chorus_asset/file/16182432/mannys_016.jpg'}, {'title': 'Ice Cream', 'code': 'icecream', 'url': 'https://www.awesomealpharetta.com/wp-content/uploads/2018/07/icecream.jpg'}, {'title': 'Extreme', 'code': 'extreme', 'url': 'https://images.squarespace-cdn.com/content/v1/59e802b9be42d61a159cbf16/1555322883123-F6FIUKYSUACRNM6G2640/ke17ZwdGBToddI8pDm48kB4nORySMPwEDaddUNIRril7gQa3H78H3Y0txjaiv_0fDoOvxcdMmMKkDsyUqMSsMWxHk725yiiHCCLfrh8O1z4YTzHvnKhyp6Da-NYroOW3ZGjoBKy3azqku80C789l0jRb3i7UjwNNySrgFE_nWau3eoIbt6T219qcqUWV36JU8EtheewCadFuc6Byd4Wlqw/Caroline+Hsu+-+Head+Down+Movement.jpg'}, {'title': 'Clubs', 'code': 'danceclubs', 'url': 'https://media.timeout.com/images/102841498/630/472/image.jpg'}, {'title': 'Italian', 'code': 'italian', 'url': 'https://bstatic.com/xdata/images/xphoto/1182x887/68794608.jpg?k=155689446d1aa48adbda2d0977fcd6d7608a9f9151562b5055f4baa366583eed&o=?size=S'}, {'title': 'Karaoke', 'code': 'karaoke', 'url': 'https://cdn.vox-cdn.com/thumbor/e3hAjv2YiXVCxImynRxc4KgsVOQ=/0x0:1612x1072/1200x800/filters:focal(678x408:934x664)/cdn.vox-cdn.com/uploads/chorus_image/image/64036835/Event1.0.png'}, {'title': 'American', 'code': 'newamerican', 'url': 'https://assets3.thrillist.com/v1/image/2752632/size/gn-gift_guide_variable_c.jpg'}, {'title': 'Cafe', 'code': 'cafe', 'url': 'https://visit.gent.be/sites/default/files/styles/header_mobile/public/img/poi/hero/PuurGent-DT007776.JPG?itok=HdM0jHs9'}, {'title': 'Museums', 'code': 'museums', 'url': 'https://img-aws.ehowcdn.com/700x/cdn.onlyinyourstate.com/wp-content/uploads/2019/01/35347215_10155317267210458_7349652585009119232_n-700x700.jpg'}, {'title': 'Spa', 'code': 'spa', 'url': 'https://img.grouponcdn.com/iam/NG2PuHCH332Ax1sL19w4GDDyvyE/NG-1500x900/v1/c700x420.jpg'}, {'title': 'Cocktails', 'code': 'cocktailbars', 'url': 'https://static.standard.co.uk/s3fs-public/thumbnails/image/2016/09/30/10/cocktails.jpg?width=1000&height=614&fit=bounds&format=pjpg&auto=webp&quality=70&crop=16:9,offset-y0.5'}, {'title': 'Sushi', 'code': 'sushi', 'url': 'https://qph.fs.quoracdn.net/main-qimg-0b24908e40c736744a109fba7b46234a'}, {'title': 'Japanese', 'code': 'japanese', 'url': 'https://www.restaurant-hospitality.com/sites/restaurant-hospitality.com/files/styles/article_featured_retina/public/pei-wei-bento-promo.gif?itok=D8HtDhgK'}, {'title': 'Bars', 'code': 'bars', 'url': 'https://www.history.com/.image/t_share/MTU4NTE1Nzg2MDcwMTA3Mzk0/beer-oldest.jpg'}, {'title': 'Galleries', 'code': 'artgalleries', 'url': 'https://img.theculturetrip.com/768x432/wp-content/uploads/2019/04/feature_vertical-gallery-chicago-_-8.jpg'}, {'title': 'Sandwiches', 'code': 'sandwiches', 'url': 'https://www.landolakes.com/RecipeManagementSystem/media/Recipe-Media-Files/Recipes/Retail/x17/18742-italian-sub-600x600.jpg?ext=.jpg'}, {'title': 'Wine', 'code': 'wine_bars', 'url': 'https://www.kendall.edu/wp-content/uploads/2019/07/wine-professional-course-2.jpg'}, {'title': 'Art', 'code': 'artmuseums', 'url': 'https://www.denverpost.com/wp-content/uploads/2016/04/20150402__20150405_E1_AE29FAFREEp1.jpg?w=620'}, {'title': 'Acai', 'code': 'acaibowl', 'url': 'https://blog.williams-sonoma.com/wp-content/uploads/2016/12/jan-7-Acai-Bowl-with-Berries-and-Coconut.jpg'}, {'title': 'Dancing', 'code': 'dancing', 'url': 'https://i.ytimg.com/vi/RXR1AojWh40/maxresdefault.jpg'}, {'title': 'Tea', 'code': 'tea', 'url': 'https://upload.wikimedia.org/wikipedia/commons/3/37/Nice_Cup_of_Tea.jpg'}, {'title': 'Gelato', 'code': 'gelato', 'url': 'https://www.phillymag.com/wp-content/uploads/sites/3/2019/06/best-gelato-philadelphia-gran-caffe-laquila.jpg'}, {'title': 'Bakeries', 'code': 'bakeries', 'url': 'https://d2j8c2rj2f9b78.cloudfront.net/uploads/poster-images/Sunflour-Baking-Company-22-of-91-resized.jpg'}, {'title': 'Oriental', 'code': 'oriental', 'url': 'https://img.pixers.pics/pho_wat(s3:700/FO/42/16/16/65/700_FO42161665_9db43869012602dcfe07536f972af498.jpg,700,525,cms:2018/10/5bd1b6b8d04b8_220x50-watermark.png,over,480,475,jpg)/wall-murals-oriental-food-indian-takeaway-at-a-london-s-market.jpg.jpg'}, {'title': 'Poke', 'code': 'poke', 'url': 'https://www.kitchensanctuary.com/wp-content/uploads/2018/01/Seared-Beef-Poke-Bowl-Recipe-tall-FS.jpg'}, {'title': 'Parks', 'code': 'parks', 'url': 'https://media.cntraveler.com/photos/543d39db00ac583c0af232ce/4:5/w_767,c_limit/central%2520park-0.jpg'}, {'title': 'Yoga', 'code': 'yoga', 'url': 'https://cdn.doyouyoga.com/articles/the-10-most-important-yoga-poses-for-beginners-25270-bbaRsJ6k.jpg=w768'}]\n"
     ]
    }
   ],
   "source": [
    "print(categories)"
   ]
  },
  {
   "cell_type": "code",
   "execution_count": 40,
   "metadata": {},
   "outputs": [
    {
     "ename": "UnidentifiedImageError",
     "evalue": "cannot identify image file './imagesRaw/pizza.jpg'",
     "output_type": "error",
     "traceback": [
      "\u001b[0;31m---------------------------------------------------------------------------\u001b[0m",
      "\u001b[0;31mUnidentifiedImageError\u001b[0m                    Traceback (most recent call last)",
      "\u001b[0;32m<ipython-input-40-e01115cc9432>\u001b[0m in \u001b[0;36m<module>\u001b[0;34m\u001b[0m\n\u001b[1;32m      1\u001b[0m \u001b[0mf\u001b[0m \u001b[0;34m=\u001b[0m \u001b[0mopen\u001b[0m\u001b[0;34m(\u001b[0m\u001b[0;34m'./imagesRaw/'\u001b[0m \u001b[0;34m+\u001b[0m \u001b[0mcategories\u001b[0m\u001b[0;34m[\u001b[0m\u001b[0;36m2\u001b[0m\u001b[0;34m]\u001b[0m\u001b[0;34m[\u001b[0m\u001b[0;34m'code'\u001b[0m\u001b[0;34m]\u001b[0m \u001b[0;34m+\u001b[0m \u001b[0;34m'.jpg'\u001b[0m\u001b[0;34m,\u001b[0m \u001b[0;34m'wb'\u001b[0m\u001b[0;34m)\u001b[0m\u001b[0;34m\u001b[0m\u001b[0;34m\u001b[0m\u001b[0m\n\u001b[1;32m      2\u001b[0m \u001b[0mf\u001b[0m\u001b[0;34m.\u001b[0m\u001b[0mwrite\u001b[0m\u001b[0;34m(\u001b[0m\u001b[0mrequests\u001b[0m\u001b[0;34m.\u001b[0m\u001b[0mget\u001b[0m\u001b[0;34m(\u001b[0m\u001b[0mcategories\u001b[0m\u001b[0;34m[\u001b[0m\u001b[0;36m2\u001b[0m\u001b[0;34m]\u001b[0m\u001b[0;34m[\u001b[0m\u001b[0;34m'url'\u001b[0m\u001b[0;34m]\u001b[0m\u001b[0;34m)\u001b[0m\u001b[0;34m.\u001b[0m\u001b[0mcontent\u001b[0m\u001b[0;34m)\u001b[0m\u001b[0;34m\u001b[0m\u001b[0;34m\u001b[0m\u001b[0m\n\u001b[0;32m----> 3\u001b[0;31m \u001b[0mim\u001b[0m \u001b[0;34m=\u001b[0m \u001b[0mImage\u001b[0m\u001b[0;34m.\u001b[0m\u001b[0mopen\u001b[0m\u001b[0;34m(\u001b[0m\u001b[0;34m'./imagesRaw/'\u001b[0m \u001b[0;34m+\u001b[0m \u001b[0mcategories\u001b[0m\u001b[0;34m[\u001b[0m\u001b[0;36m2\u001b[0m\u001b[0;34m]\u001b[0m\u001b[0;34m[\u001b[0m\u001b[0;34m'code'\u001b[0m\u001b[0;34m]\u001b[0m \u001b[0;34m+\u001b[0m \u001b[0;34m'.jpg'\u001b[0m\u001b[0;34m)\u001b[0m\u001b[0;34m\u001b[0m\u001b[0;34m\u001b[0m\u001b[0m\n\u001b[0m\u001b[1;32m      4\u001b[0m \u001b[0mim\u001b[0m\u001b[0;34m.\u001b[0m\u001b[0mshow\u001b[0m\u001b[0;34m(\u001b[0m\u001b[0;34m)\u001b[0m\u001b[0;34m\u001b[0m\u001b[0;34m\u001b[0m\u001b[0m\n",
      "\u001b[0;32m~/UMich/ds/lib/python3.7/site-packages/PIL/Image.py\u001b[0m in \u001b[0;36mopen\u001b[0;34m(fp, mode)\u001b[0m\n\u001b[1;32m   2860\u001b[0m         \u001b[0mwarnings\u001b[0m\u001b[0;34m.\u001b[0m\u001b[0mwarn\u001b[0m\u001b[0;34m(\u001b[0m\u001b[0mmessage\u001b[0m\u001b[0;34m)\u001b[0m\u001b[0;34m\u001b[0m\u001b[0;34m\u001b[0m\u001b[0m\n\u001b[1;32m   2861\u001b[0m     raise UnidentifiedImageError(\n\u001b[0;32m-> 2862\u001b[0;31m         \u001b[0;34m\"cannot identify image file %r\"\u001b[0m \u001b[0;34m%\u001b[0m \u001b[0;34m(\u001b[0m\u001b[0mfilename\u001b[0m \u001b[0;32mif\u001b[0m \u001b[0mfilename\u001b[0m \u001b[0;32melse\u001b[0m \u001b[0mfp\u001b[0m\u001b[0;34m)\u001b[0m\u001b[0;34m\u001b[0m\u001b[0;34m\u001b[0m\u001b[0m\n\u001b[0m\u001b[1;32m   2863\u001b[0m     )\n\u001b[1;32m   2864\u001b[0m \u001b[0;34m\u001b[0m\u001b[0m\n",
      "\u001b[0;31mUnidentifiedImageError\u001b[0m: cannot identify image file './imagesRaw/pizza.jpg'"
     ]
    }
   ],
   "source": [
    "f = open('./imagesRaw/' + categories[2]['code'] + '.jpg', 'wb')\n",
    "f.write(requests.get(categories[2]['url']).content)\n",
    "im = Image.open('./imagesRaw/' + categories[2]['code'] + '.jpg')\n",
    "im.show()"
   ]
  },
  {
   "cell_type": "code",
   "execution_count": 61,
   "metadata": {},
   "outputs": [
    {
     "name": "stdout",
     "output_type": "stream",
     "text": [
      "chinese https://images2.minutemediacdn.com/image/upload/c_crop,h_695,w_1237,x_0,y_58/f_auto,q_auto,w_1100/v1554992472/shape/mentalfloss/521724-istock-545286388.jpg\n",
      "burgers https://www.tasteofhome.com/wp-content/uploads/2018/01/exps28800_UG143377D12_18_1b_RMS-696x696.jpg\n",
      "pizza https://www.williams-sonoma.com/wsimgs/rk/images/dp/recipe/201935/0004/img1l.jpg\n",
      "rockclimbing https://media.timeout.com/images/103425622/630/472/image.jpg\n",
      "arcades https://cdn.vox-cdn.com/thumbor/seYFBo5tCxUbGwgE7q7oShZvIUU=/0x0:4000x2667/1200x900/filters:focal(1680x1014:2320x1654)/cdn.vox-cdn.com/uploads/chorus_image/image/56631551/shutterstock_636086801.1505195483.jpg\n",
      "speakeasies https://blog.noblehousehotels.com/wp-content/uploads/2016/10/Bourbon-Branch_featured.jpg\n",
      "markets https://media.guestofaguest.com/t_article_content/gofg-media/2018/03/1/50605/chelsea.jpg\n",
      "pubs https://ichef.bbci.co.uk/wwfeatures/live/624_351/images/live/p0/73/0p/p0730pfm.jpg\n",
      "barbeque https://www.smokedmeatsunday.com/wp-content/uploads/2019/06/BBQ-Chicken-Lollipops-1024x683.jpg\n",
      "mexican https://cdn.vox-cdn.com/thumbor/n-o6I2U_grf0OeAXY00igRIV2vI=/1400x1400/filters:format(jpeg)/cdn.vox-cdn.com/uploads/chorus_asset/file/16182432/mannys_016.jpg\n",
      "icecream https://www.awesomealpharetta.com/wp-content/uploads/2018/07/icecream.jpg\n",
      "extreme https://images.squarespace-cdn.com/content/v1/59e802b9be42d61a159cbf16/1555322883123-F6FIUKYSUACRNM6G2640/ke17ZwdGBToddI8pDm48kB4nORySMPwEDaddUNIRril7gQa3H78H3Y0txjaiv_0fDoOvxcdMmMKkDsyUqMSsMWxHk725yiiHCCLfrh8O1z4YTzHvnKhyp6Da-NYroOW3ZGjoBKy3azqku80C789l0jRb3i7UjwNNySrgFE_nWau3eoIbt6T219qcqUWV36JU8EtheewCadFuc6Byd4Wlqw/Caroline+Hsu+-+Head+Down+Movement.jpg\n",
      "danceclubs https://media.timeout.com/images/102841498/630/472/image.jpg\n",
      "italian https://bstatic.com/xdata/images/xphoto/1182x887/68794608.jpg?k=155689446d1aa48adbda2d0977fcd6d7608a9f9151562b5055f4baa366583eed&o=?size=S\n",
      "karaoke https://cdn.vox-cdn.com/thumbor/e3hAjv2YiXVCxImynRxc4KgsVOQ=/0x0:1612x1072/1200x800/filters:focal(678x408:934x664)/cdn.vox-cdn.com/uploads/chorus_image/image/64036835/Event1.0.png\n",
      "https://cdn.vox-cdn.com/thumbor/e3hAjv2YiXVCxImynRxc4KgsVOQ=/0x0:1612x1072/1200x800/filters:focal(678x408:934x664)/cdn.vox-cdn.com/uploads/chorus_image/image/64036835/Event1.0.png\n",
      "newamerican https://assets3.thrillist.com/v1/image/2752632/size/gn-gift_guide_variable_c.jpg\n",
      "cafe https://visit.gent.be/sites/default/files/styles/header_mobile/public/img/poi/hero/PuurGent-DT007776.JPG?itok=HdM0jHs9\n",
      "museums https://img-aws.ehowcdn.com/700x/cdn.onlyinyourstate.com/wp-content/uploads/2019/01/35347215_10155317267210458_7349652585009119232_n-700x700.jpg\n",
      "spa https://img.grouponcdn.com/iam/NG2PuHCH332Ax1sL19w4GDDyvyE/NG-1500x900/v1/c700x420.jpg\n",
      "cocktailbars https://static.standard.co.uk/s3fs-public/thumbnails/image/2016/09/30/10/cocktails.jpg?width=1000&height=614&fit=bounds&format=pjpg&auto=webp&quality=70&crop=16:9,offset-y0.5\n",
      "sushi https://qph.fs.quoracdn.net/main-qimg-0b24908e40c736744a109fba7b46234a\n",
      "japanese https://www.restaurant-hospitality.com/sites/restaurant-hospitality.com/files/styles/article_featured_retina/public/pei-wei-bento-promo.gif?itok=D8HtDhgK\n",
      "bars https://www.history.com/.image/t_share/MTU4NTE1Nzg2MDcwMTA3Mzk0/beer-oldest.jpg\n",
      "artgalleries https://img.theculturetrip.com/768x432/wp-content/uploads/2019/04/feature_vertical-gallery-chicago-_-8.jpg\n",
      "sandwiches https://www.landolakes.com/RecipeManagementSystem/media/Recipe-Media-Files/Recipes/Retail/x17/18742-italian-sub-600x600.jpg?ext=.jpg\n",
      "wine_bars https://www.kendall.edu/wp-content/uploads/2019/07/wine-professional-course-2.jpg\n",
      "artmuseums https://www.denverpost.com/wp-content/uploads/2016/04/20150402__20150405_E1_AE29FAFREEp1.jpg?w=620\n",
      "acaibowl https://blog.williams-sonoma.com/wp-content/uploads/2016/12/jan-7-Acai-Bowl-with-Berries-and-Coconut.jpg\n",
      "dancing https://i.ytimg.com/vi/RXR1AojWh40/maxresdefault.jpg\n",
      "tea https://upload.wikimedia.org/wikipedia/commons/3/37/Nice_Cup_of_Tea.jpg\n",
      "gelato https://www.phillymag.com/wp-content/uploads/sites/3/2019/06/best-gelato-philadelphia-gran-caffe-laquila.jpg\n",
      "bakeries https://d2j8c2rj2f9b78.cloudfront.net/uploads/poster-images/Sunflour-Baking-Company-22-of-91-resized.jpg\n",
      "oriental https://img.pixers.pics/pho_wat(s3:700/FO/42/16/16/65/700_FO42161665_9db43869012602dcfe07536f972af498.jpg,700,525,cms:2018/10/5bd1b6b8d04b8_220x50-watermark.png,over,480,475,jpg)/wall-murals-oriental-food-indian-takeaway-at-a-london-s-market.jpg.jpg\n",
      "poke https://www.kitchensanctuary.com/wp-content/uploads/2018/01/Seared-Beef-Poke-Bowl-Recipe-tall-FS.jpg\n",
      "parks https://media.cntraveler.com/photos/543d39db00ac583c0af232ce/4:5/w_767,c_limit/central%2520park-0.jpg\n",
      "yoga https://cdn.doyouyoga.com/articles/the-10-most-important-yoga-poses-for-beginners-25270-bbaRsJ6k.jpg=w768\n"
     ]
    }
   ],
   "source": [
    "for category in categories:\n",
    "    url = category['url']\n",
    "    print(category['code'], url)\n",
    "    if '.jpg' in url:\n",
    "        f = open('./imagesRaw/' + category['code'] + '.jpg', 'wb')\n",
    "        f.write(requests.get(url).content)\n",
    "    elif '.png' in url:\n",
    "        print(url)\n",
    "    f.close()"
   ]
  },
  {
   "cell_type": "code",
   "execution_count": 5,
   "metadata": {},
   "outputs": [
    {
     "name": "stdout",
     "output_type": "stream",
     "text": [
      "(700, 420)\n",
      "(1200, 900)\n",
      "(630, 472)\n",
      "(575, 575)\n",
      "(800, 800)\n",
      "(680, 1020)\n",
      "(1280, 720)\n",
      "(1400, 1400)\n",
      "(600, 600)\n",
      "(1024, 768)\n",
      "(768, 484)\n",
      "(1000, 563)\n",
      "(1200, 800)\n",
      "(1000, 625)\n",
      "(1200, 675)\n",
      "(800, 600)\n",
      "(602, 401)\n",
      "(620, 411)\n",
      "(624, 351)\n",
      "(767, 959)\n",
      "(840, 672)\n",
      "(700, 700)\n",
      "(2000, 1334)\n",
      "(3072, 2304)\n",
      "(900, 600)\n",
      "(630, 472)\n",
      "(700, 525)\n",
      "(768, 432)\n",
      "(1024, 683)\n",
      "(970, 646)\n",
      "(1540, 800)\n",
      "(696, 696)\n",
      "(1182, 887)\n",
      "(475, 475)\n",
      "(750, 535)\n",
      "(1100, 618)\n"
     ]
    }
   ],
   "source": [
    "for category in categories:\n",
    "    im = Image.open('./imagesRaw/' + category['code'] + '.jpg')\n",
    "    im.convert('RGB')\n",
    "    print(im.size)\n",
    "    im = im.resize((round(100 * im.size[0] / im.size[1]), 100))\n",
    "    im.save('./150p/' + category['code'] + 'low.jpg')"
   ]
  },
  {
   "cell_type": "code",
   "execution_count": 8,
   "metadata": {},
   "outputs": [
    {
     "name": "stdout",
     "output_type": "stream",
     "text": [
      "extreme : require('./extreme.jpg'),\n",
      "japanese : require('./japanese.jpg'),\n",
      "oriental : require('./oriental.jpg'),\n",
      "spa : require('./spa.jpg'),\n",
      "sushi : require('./sushi.jpg'),\n",
      "poke : require('./poke.jpg'),\n",
      "chinese : require('./chinese.jpg'),\n",
      "museums : require('./museums.jpg'),\n",
      "markets : require('./markets.jpg'),\n",
      "wine_bars : require('./wine_bars.jpg'),\n",
      "newamerican : require('./newamerican.jpg'),\n",
      "cafe : require('./cafe.jpg'),\n",
      "rockclimbing : require('./rockclimbing.jpg'),\n",
      "pubs : require('./pubs.jpg'),\n",
      "arcades : require('./arcades.jpg'),\n",
      "yoga : require('./yoga.jpg'),\n",
      "sandwiches : require('./sandwiches.jpg'),\n",
      "bakeries : require('./bakeries.jpg'),\n",
      "danceclubs : require('./danceclubs.jpg'),\n",
      "artgalleries : require('./artgalleries.jpg'),\n",
      "acaibowl : require('./acaibowl.jpg'),\n",
      "karaoke : require('./karaoke.jpg'),\n",
      "burgers : require('./burgers.jpg'),\n",
      "tea : require('./tea.jpg'),\n",
      "icecream : require('./icecream.jpg'),\n",
      "artmuseums : require('./artmuseums.jpg'),\n",
      "speakeasies : require('./speakeasies.jpg'),\n",
      "parks : require('./parks.jpg'),\n",
      "dancing : require('./dancing.jpg'),\n",
      "mexican : require('./mexican.jpg'),\n",
      "pizza : require('./pizza.jpg'),\n",
      "cocktailbars : require('./cocktailbars.jpg'),\n",
      "bars : require('./bars.jpg'),\n",
      "gelato : require('./gelato.jpg'),\n",
      "barbeque : require('./barbeque.jpg'),\n",
      "italian : require('./italian.jpg'),\n"
     ]
    }
   ],
   "source": [
    "for category in categories:\n",
    "    print(category['code'] + ' : ' + 'require(\\'./' + category['code'] + '.jpg\\'),')"
   ]
  },
  {
   "cell_type": "code",
   "execution_count": null,
   "metadata": {},
   "outputs": [],
   "source": []
  }
 ],
 "metadata": {
  "kernelspec": {
   "display_name": "ds",
   "language": "python",
   "name": "ds"
  },
  "language_info": {
   "codemirror_mode": {
    "name": "ipython",
    "version": 3
   },
   "file_extension": ".py",
   "mimetype": "text/x-python",
   "name": "python",
   "nbconvert_exporter": "python",
   "pygments_lexer": "ipython3",
   "version": "3.7.6"
  }
 },
 "nbformat": 4,
 "nbformat_minor": 2
}
