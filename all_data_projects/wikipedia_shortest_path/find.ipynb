{
 "cells": [
  {
   "cell_type": "code",
   "execution_count": 6,
   "metadata": {},
   "outputs": [
    {
     "name": "stdout",
     "output_type": "stream",
     "text": [
      "error: Adam Sandler\n",
      "error: Bill Mumy\n",
      "error: Bill Nye\n",
      "error: Jordan Peele\n",
      "error: Kevin Federline\n",
      "error: Kurt Cobain\n"
     ]
    },
    {
     "name": "stderr",
     "output_type": "stream",
     "text": [
      "/Users/hayden/UMich/ds/lib/python3.7/site-packages/wikipedia/wikipedia.py:389: UserWarning: No parser was explicitly specified, so I'm using the best available HTML parser for this system (\"html.parser\"). This usually isn't a problem, but if you run this code on another system, or in a different virtual environment, it may use a different parser and behave differently.\n",
      "\n",
      "The code that caused this warning is on line 389 of the file /Users/hayden/UMich/ds/lib/python3.7/site-packages/wikipedia/wikipedia.py. To get rid of this warning, pass the additional argument 'features=\"html.parser\"' to the BeautifulSoup constructor.\n",
      "\n",
      "  lis = BeautifulSoup(html).find_all('li')\n"
     ]
    },
    {
     "name": "stdout",
     "output_type": "stream",
     "text": [
      "error: DIY\n",
      "error: AD (disambiguation)\n",
      "error: Advertiser (disambiguation)\n",
      "error: Barbie\n",
      "error: Brand names\n",
      "error: RedEye\n",
      "error: Transformation (disambiguation)\n",
      "error: Volney B. Palmer\n",
      "error: Irwin Gotlieb\n",
      "error: Victor Gustav Bloede (advertising)\n",
      "error: Bill Graham (disambiguation)\n",
      "error: Jars of Clay\n",
      "['Mr. Whipple', 'Billy Graham', 'Louisiana State Penitentiary', 'Kevin Bacon']\n"
     ]
    }
   ],
   "source": [
    "import wikipedia as w\n",
    "import networkx as nx\n",
    "\n",
    "def findPath(start, goal):\n",
    "    start = w.search(start)[0]\n",
    "    goal = w.search(goal)[0]\n",
    "    g = nx.Graph()\n",
    "    temp = []\n",
    "    for link in w.page(start).links:\n",
    "        temp.append(link)\n",
    "        g.add_edge(start, link)\n",
    "    temp2 = []\n",
    "    for link in temp:\n",
    "        if goal in temp or goal in temp2:\n",
    "            return [nx.shortest_path(g, start, goal), g]\n",
    "        elif link not in temp2:\n",
    "            try:\n",
    "                for link2 in w.page(link).links:\n",
    "                        temp2.append(link2)\n",
    "                        g.add_edge(link, link2)\n",
    "            except:\n",
    "                print(\"error: \" + link)\n",
    "    temp3 = []\n",
    "    for link in temp2:\n",
    "        if goal in temp3:\n",
    "            return [nx.shortest_path(g, start, goal), g]\n",
    "        elif link not in temp3:\n",
    "            try:\n",
    "                for link2 in w.page(link).links:\n",
    "                    temp3.append(link2)\n",
    "                    g.add_edge(link, link2)\n",
    "            except:\n",
    "                print(\"error: \" + link)\n",
    "    return [False, g]\n",
    "\n",
    "path = findPath('Mr Whipple', 'Kevin Bacon')\n",
    "print(path[0])"
   ]
  },
  {
   "cell_type": "code",
   "execution_count": null,
   "metadata": {},
   "outputs": [],
   "source": [
    "nx.draw(path[1])"
   ]
  },
  {
   "cell_type": "code",
   "execution_count": null,
   "metadata": {},
   "outputs": [],
   "source": []
  }
 ],
 "metadata": {
  "kernelspec": {
   "display_name": "ds",
   "language": "python",
   "name": "ds"
  },
  "language_info": {
   "codemirror_mode": {
    "name": "ipython",
    "version": 3
   },
   "file_extension": ".py",
   "mimetype": "text/x-python",
   "name": "python",
   "nbconvert_exporter": "python",
   "pygments_lexer": "ipython3",
   "version": "3.7.6"
  }
 },
 "nbformat": 4,
 "nbformat_minor": 2
}
