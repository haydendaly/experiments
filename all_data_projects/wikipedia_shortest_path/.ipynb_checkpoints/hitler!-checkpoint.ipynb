{
 "cells": [
  {
   "cell_type": "code",
   "execution_count": 2,
   "metadata": {},
   "outputs": [
    {
     "name": "stdout",
     "output_type": "stream",
     "text": [
      "error: Adam Sandler\n",
      "['George Lucas', 'Bill Gates', 'Adolf Hitler']\n"
     ]
    }
   ],
   "source": [
    "import wikipedia as w\n",
    "import networkx as nx\n",
    "\n",
    "def findPath(start, goal):\n",
    "    start = w.search(start)[0]\n",
    "    goal\n",
    "    g = nx.Graph()\n",
    "    temp = []\n",
    "    for link in w.page(start).links:\n",
    "        temp.append(link)\n",
    "        g.add_edge(start, link)\n",
    "    temp2 = []\n",
    "    for link in temp:\n",
    "        if goal in temp or goal in temp2:\n",
    "            return [nx.shortest_path(g, start, goal), g]\n",
    "        elif link not in temp2:\n",
    "            try:\n",
    "                for link2 in w.page(link).links:\n",
    "                        temp2.append(link2)\n",
    "                        g.add_edge(link, link2)\n",
    "            except:\n",
    "                print(\"error: \" + link)\n",
    "    temp3 = []\n",
    "    for link in temp2:\n",
    "        if goal in temp3:\n",
    "            return [nx.shortest_path(g, start, goal), g]\n",
    "        elif link not in temp3:\n",
    "            try:\n",
    "                for link2 in w.page(link).links:\n",
    "                    temp3.append(link2)\n",
    "                    g.add_edge(link, link2)\n",
    "            except:\n",
    "                print(\"error: \" + link)\n",
    "    return [False, g]\n",
    "\n",
    "path = findPath('George Lucas', 'Adolf Hitler')\n",
    "print(path[0])"
   ]
  },
  {
   "cell_type": "code",
   "execution_count": null,
   "metadata": {},
   "outputs": [],
   "source": []
  }
 ],
 "metadata": {
  "kernelspec": {
   "display_name": "ds",
   "language": "python",
   "name": "ds"
  },
  "language_info": {
   "codemirror_mode": {
    "name": "ipython",
    "version": 3
   },
   "file_extension": ".py",
   "mimetype": "text/x-python",
   "name": "python",
   "nbconvert_exporter": "python",
   "pygments_lexer": "ipython3",
   "version": "3.7.6"
  }
 },
 "nbformat": 4,
 "nbformat_minor": 2
}
