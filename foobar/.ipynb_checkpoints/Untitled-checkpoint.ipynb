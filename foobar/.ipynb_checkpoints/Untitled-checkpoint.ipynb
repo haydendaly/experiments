{
 "cells": [
  {
   "cell_type": "code",
   "execution_count": 12,
   "id": "amber-bacteria",
   "metadata": {},
   "outputs": [],
   "source": [
    "def solution(data, n):\n",
    "    result, count = [], dict()\n",
    "    for i, num in enumerate(data):\n",
    "        if num not in count:\n",
    "            count[num] = 0\n",
    "        count[num] += 1\n",
    "    for num in data:\n",
    "        if count[num] >= n:\n",
    "            result.append(num)\n",
    "    return result"
   ]
  },
  {
   "cell_type": "code",
   "execution_count": 13,
   "id": "featured-testing",
   "metadata": {},
   "outputs": [
    {
     "name": "stdout",
     "output_type": "stream",
     "text": [
      "([1, 2, 2, 3, 3, 3, 4, 5, 5], [1, 4])\n",
      "([1, 2, 3], [])\n"
     ]
    }
   ],
   "source": [
    "arr1, n1, ans1 = [1, 2, 2, 3, 3, 3, 4, 5, 5], 1, [1,4]\n",
    "result1 = solution(arr1, n1)\n",
    "print(result1 == ans1 or (result1, ans1))\n",
    "arr2, n2, ans2 = [1, 2, 3], 0, []\n",
    "result2 = solution(arr2, n2)\n",
    "print(result2 == ans1 or (result2, ans2))"
   ]
  },
  {
   "cell_type": "code",
   "execution_count": null,
   "id": "pointed-square",
   "metadata": {},
   "outputs": [],
   "source": []
  }
 ],
 "metadata": {
  "kernelspec": {
   "display_name": "Python 2",
   "language": "python",
   "name": "python2"
  },
  "language_info": {
   "codemirror_mode": {
    "name": "ipython",
    "version": 2
   },
   "file_extension": ".py",
   "mimetype": "text/x-python",
   "name": "python",
   "nbconvert_exporter": "python",
   "pygments_lexer": "ipython2",
   "version": "2.7.16"
  }
 },
 "nbformat": 4,
 "nbformat_minor": 5
}
