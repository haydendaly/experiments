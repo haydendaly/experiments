{
 "cells": [
  {
   "cell_type": "code",
   "execution_count": 1,
   "id": "amber-bacteria",
   "metadata": {},
   "outputs": [],
   "source": [
    "def solution(data, n):\n",
    "    result, count = [], dict()\n",
    "    for i, num in enumerate(data):\n",
    "        if num not in count:\n",
    "            count[num] = 0\n",
    "        count[num] += 1\n",
    "    for num in data:\n",
    "        if count[num] >= n:\n",
    "            result.append(num)\n",
    "    return result"
   ]
  },
  {
   "cell_type": "code",
   "execution_count": 18,
   "id": "helpful-pricing",
   "metadata": {},
   "outputs": [
    {
     "name": "stdout",
     "output_type": "stream",
     "text": [
      "([1, 4], [])\n"
     ]
    }
   ],
   "source": [
    "arr1, n1, ans1 = [1, 2, 2, 3, 3, 3, 4, 5, 5], 1, [1,4]\n",
    "result1 = solution(arr1, n1)\n",
    "arr2, n2, ans2 = [1, 2, 3], 0, []\n",
    "result2 = solution(arr2, n2)\n",
    "print(result1, result2)"
   ]
  },
  {
   "cell_type": "code",
   "execution_count": 17,
   "id": "fatal-puppy",
   "metadata": {},
   "outputs": [],
   "source": [
    "def solution(data, n):\n",
    "    count = dict()\n",
    "    for i, num in enumerate(data):\n",
    "        if num not in count:\n",
    "            count[num] = 0\n",
    "        count[num] += 1\n",
    "    result = []\n",
    "    first = True\n",
    "    for num in data:\n",
    "        if count[num] <= n:\n",
    "            result.append(num)\n",
    "    return result"
   ]
  },
  {
   "cell_type": "code",
   "execution_count": 4,
   "id": "armed-running",
   "metadata": {},
   "outputs": [],
   "source": [
    "def solution(s):\n",
    "    opened = 0\n",
    "    result = 0\n",
    "    for i, char in enumerate(s):\n",
    "        if char == '>':\n",
    "            opened += 1\n",
    "        elif char == '<':\n",
    "            result += opened * 2\n",
    "    return result"
   ]
  },
  {
   "cell_type": "code",
   "execution_count": 6,
   "id": "handy-intro",
   "metadata": {},
   "outputs": [
    {
     "name": "stdout",
     "output_type": "stream",
     "text": [
      "2\n",
      "4\n"
     ]
    }
   ],
   "source": [
    "s = \">----<\"\n",
    "print(solution(s))\n",
    "s = \"<<>><\"\n",
    "print(solution(s))"
   ]
  },
  {
   "cell_type": "code",
   "execution_count": 72,
   "id": "above-schedule",
   "metadata": {},
   "outputs": [],
   "source": [
    "from itertools import combinations\n",
    "def solution(l):\n",
    "    l.sort(reverse=True)\n",
    "    for i in reversed(range(1, len(l) + 1)):\n",
    "        combos = combinations(l, i)\n",
    "        for combo in combos:\n",
    "            if sum(combo) % 3 == 0:\n",
    "                result = 0\n",
    "                for digit in combo:\n",
    "                    result *= 10\n",
    "                    result += int(digit)\n",
    "                return result\n",
    "    return 0"
   ]
  },
  {
   "cell_type": "code",
   "execution_count": 73,
   "id": "qualified-match",
   "metadata": {},
   "outputs": [
    {
     "name": "stdout",
     "output_type": "stream",
     "text": [
      "94311\n",
      "4311\n"
     ]
    }
   ],
   "source": [
    "arr1 = [3, 1, 4, 1, 5, 9]\n",
    "arr2 = [3, 1, 4, 1]\n",
    "print(solution(arr1))\n",
    "print(solution(arr2))"
   ]
  },
  {
   "cell_type": "code",
   "execution_count": 51,
   "id": "correct-greene",
   "metadata": {},
   "outputs": [],
   "source": [
    "from itertools import combinations\n",
    " \n",
    "def solution(l):\n",
    "    l.sort(reverse = True)\n",
    "    for i in reversed(range(1, len(l) + 1)):\n",
    "        for tup in combinations(l, i):\n",
    "            if sum(tup) % 3 == 0: \n",
    "                return tup\n",
    "    return 0"
   ]
  },
  {
   "cell_type": "code",
   "execution_count": null,
   "id": "delayed-action",
   "metadata": {},
   "outputs": [],
   "source": []
  }
 ],
 "metadata": {
  "kernelspec": {
   "display_name": "Python 2",
   "language": "python",
   "name": "python2"
  },
  "language_info": {
   "codemirror_mode": {
    "name": "ipython",
    "version": 2
   },
   "file_extension": ".py",
   "mimetype": "text/x-python",
   "name": "python",
   "nbconvert_exporter": "python",
   "pygments_lexer": "ipython2",
   "version": "2.7.16"
  }
 },
 "nbformat": 4,
 "nbformat_minor": 5
}
