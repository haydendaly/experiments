{
 "cells": [
  {
   "cell_type": "code",
   "execution_count": 1,
   "metadata": {},
   "outputs": [],
   "source": [
    "#14\n",
    "def findCollatzSeq(n=1000000):\n",
    "    hashmap = { '1' : 1 }\n",
    "    max_length = 1\n",
    "    max_idx = None\n",
    "    \n",
    "    for i in range(1, n + 1):\n",
    "        if str(i) in hashmap:\n",
    "            pass\n",
    "    \n",
    "        is_novel = True\n",
    "        next_val = i\n",
    "        length = 0\n",
    "        \n",
    "        while is_novel:\n",
    "            if next_val & 1 == 0:\n",
    "                next_val = int(next_val / 2)\n",
    "            else:\n",
    "                next_val = 3*next_val + 1\n",
    "            if str(int(next_val)) in hashmap:\n",
    "                new_length = hashmap[str(next_val)] + length\n",
    "\n",
    "                if new_length > max_length:\n",
    "                    max_length = new_length\n",
    "                    max_idx = i\n",
    "                is_novel = False\n",
    "    \n",
    "                hashmap[str(i)] = new_length\n",
    "            else:\n",
    "                hashmap[str(i)] = length\n",
    "            length += 1\n",
    "        \n",
    "    return max_idx"
   ]
  },
  {
   "cell_type": "code",
   "execution_count": 3,
   "metadata": {},
   "outputs": [
    {
     "data": {
      "text/plain": [
       "6171"
      ]
     },
     "execution_count": 3,
     "metadata": {},
     "output_type": "execute_result"
    }
   ],
   "source": [
    "findCollatzSeq(10000)"
   ]
  },
  {
   "cell_type": "code",
   "execution_count": null,
   "metadata": {},
   "outputs": [],
   "source": []
  }
 ],
 "metadata": {
  "kernelspec": {
   "display_name": "Python 3",
   "language": "python",
   "name": "python3"
  },
  "language_info": {
   "codemirror_mode": {
    "name": "ipython",
    "version": 3
   },
   "file_extension": ".py",
   "mimetype": "text/x-python",
   "name": "python",
   "nbconvert_exporter": "python",
   "pygments_lexer": "ipython3",
   "version": "3.7.6"
  }
 },
 "nbformat": 4,
 "nbformat_minor": 2
}
