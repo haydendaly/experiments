{
 "cells": [
  {
   "cell_type": "code",
   "execution_count": 1,
   "id": "adjustable-technical",
   "metadata": {},
   "outputs": [
    {
     "ename": "SyntaxError",
     "evalue": "invalid syntax (<ipython-input-1-fa563020391e>, line 7)",
     "output_type": "error",
     "traceback": [
      "\u001b[0;36m  File \u001b[0;32m\"<ipython-input-1-fa563020391e>\"\u001b[0;36m, line \u001b[0;32m7\u001b[0m\n\u001b[0;31m    return move(x + 1, y, m, n) + move(x - 1, y, m, n) +\u001b[0m\n\u001b[0m                                                        ^\u001b[0m\n\u001b[0;31mSyntaxError\u001b[0m\u001b[0;31m:\u001b[0m invalid syntax\n"
     ]
    }
   ],
   "source": [
    "def move(x, y, m, n):\n",
    "    if x == m - 1 and y == n - 1:\n",
    "        return 1\n",
    "    elif x == m or y == n or x < 0 or y < 0:\n",
    "        return 0\n",
    "    else:\n",
    "        return move(x + 1, y, m, n) + move(x - 1, y, m, n) + move(x, y + 1, m, n) + move(x, y - 1, m, n)"
   ]
  },
  {
   "cell_type": "code",
   "execution_count": null,
   "id": "cultural-cleanup",
   "metadata": {},
   "outputs": [],
   "source": []
  }
 ],
 "metadata": {
  "kernelspec": {
   "display_name": "Python 3",
   "language": "python",
   "name": "python3"
  },
  "language_info": {
   "codemirror_mode": {
    "name": "ipython",
    "version": 3
   },
   "file_extension": ".py",
   "mimetype": "text/x-python",
   "name": "python",
   "nbconvert_exporter": "python",
   "pygments_lexer": "ipython3",
   "version": "3.9.1"
  }
 },
 "nbformat": 4,
 "nbformat_minor": 5
}
