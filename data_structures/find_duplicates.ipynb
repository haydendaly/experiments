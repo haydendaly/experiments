{
 "cells": [
  {
   "cell_type": "markdown",
   "id": "floppy-poland",
   "metadata": {},
   "source": [
    "# Problem 1\n",
    "\n",
    "Given an array of size n where every element in the array is between 1 and n. There can be multiple duplicates\n",
    "\n",
    "Find and return a duplicate, if none return -1."
   ]
  },
  {
   "cell_type": "code",
   "execution_count": 1,
   "id": "green-startup",
   "metadata": {},
   "outputs": [],
   "source": [
    "sample1 = [8, 4, 7, 1, 5, 4, 3, 2]\n",
    "sample1_ans = 4"
   ]
  },
  {
   "cell_type": "code",
   "execution_count": null,
   "id": "incomplete-charter",
   "metadata": {},
   "outputs": [],
   "source": [
    "def find_dups(arr):\n",
    "    prev_seen = {}\n",
    "    for i in arr:\n",
    "        if i in prev_seen:\n",
    "            return i\n",
    "        prev_seen.add(i)\n",
    "    \n",
    "    return -1"
   ]
  },
  {
   "cell_type": "code",
   "execution_count": 4,
   "id": "million-bookmark",
   "metadata": {},
   "outputs": [],
   "source": [
    "def find_dups(arr):\n",
    "    for i in range(len(arr)):\n",
    "        if arr[abs(arr[i])-1] < 0:\n",
    "            return abs(arr[i])\n",
    "        else:\n",
    "            arr[abs(arr[i])-1] *= -1\n",
    "    return -1"
   ]
  },
  {
   "cell_type": "code",
   "execution_count": 5,
   "id": "several-bedroom",
   "metadata": {},
   "outputs": [
    {
     "data": {
      "text/plain": [
       "4"
      ]
     },
     "execution_count": 5,
     "metadata": {},
     "output_type": "execute_result"
    }
   ],
   "source": [
    "find_dups(sample1)"
   ]
  },
  {
   "cell_type": "code",
   "execution_count": null,
   "id": "unlimited-brooks",
   "metadata": {},
   "outputs": [],
   "source": []
  }
 ],
 "metadata": {
  "kernelspec": {
   "display_name": "Python 3",
   "language": "python",
   "name": "python3"
  },
  "language_info": {
   "codemirror_mode": {
    "name": "ipython",
    "version": 3
   },
   "file_extension": ".py",
   "mimetype": "text/x-python",
   "name": "python",
   "nbconvert_exporter": "python",
   "pygments_lexer": "ipython3",
   "version": "3.9.1"
  }
 },
 "nbformat": 4,
 "nbformat_minor": 5
}
