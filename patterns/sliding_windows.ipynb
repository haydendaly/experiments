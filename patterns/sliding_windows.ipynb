{
 "cells": [
  {
   "cell_type": "markdown",
   "id": "orange-germany",
   "metadata": {},
   "source": [
    "# Sliding Window Strategy\n",
    "\n",
    "The Sliding Window pattern is used to perform a required operation on a specific window size of a given array or linked list, such as finding the longest subarray containing all 1s. Sliding Windows start from the 1st element and keep shifting right by one element and adjust the length of the window according to the problem that you are solving. In some cases, the window size remains constant and in other cases the sizes grows or shrinks.\n",
    "\n",
    "## Requirements\n",
    "\n",
    "* Input is a linear data structure (linked list, array, or string)\n",
    "* Asked to find the longest/shortest substring, subarray, or a desired value\n",
    "\n",
    "## Problems\n",
    "\n",
    "* Maximum sum subarray of size ‘K’ (easy)\n",
    "* Longest substring with ‘K’ distinct characters (medium)\n",
    "* String anagrams (hard)\n",
    "\n",
    "## Examples"
   ]
  },
  {
   "cell_type": "markdown",
   "id": "qualified-ministry",
   "metadata": {},
   "source": [
    "### Maximum Sum Subarray of Size K (easy)\n",
    "\n",
    "#### Problem Statement\n",
    "\n",
    "Given an array of positive numbers and a positive number ‘k,’ find the maximum sum of any contiguous subarray of size ‘k’.\n",
    "\n",
    "#### Solution\n",
    "\n",
    "O(n) runtime, O(1) space"
   ]
  },
  {
   "cell_type": "code",
   "execution_count": 1,
   "id": "oriental-talent",
   "metadata": {},
   "outputs": [],
   "source": [
    "def max_sub_array_of_size_k(k, arr):\n",
    "    max_seen, curr_sum, start = 0, 0, 0\n",
    "    for end in range(len(arr)):\n",
    "        curr_sum += arr[end]\n",
    "        if end >= k - 1:\n",
    "            max_seen = max(max_seen, curr_sum)\n",
    "            curr_sum -= arr[start]\n",
    "            start += 1\n",
    "    return max_seen"
   ]
  },
  {
   "cell_type": "code",
   "execution_count": 2,
   "id": "dying-offset",
   "metadata": {},
   "outputs": [],
   "source": [
    "k, arr = 3, [2, 1, 5, 1, 3, 2]\n",
    "assert(max_sub_array_of_size_k(k, arr) == 9)"
   ]
  },
  {
   "cell_type": "markdown",
   "id": "senior-promotion",
   "metadata": {},
   "source": [
    "### Smallest Subarray with a given sum (easy)\n",
    "#### Problem Statement\n",
    "Given an array of positive numbers and a positive number ‘S,’ find the length of the smallest contiguous subarray whose sum is greater than or equal to ‘S’. Return 0 if no such subarray exists.\n",
    "#### Solution\n",
    "O(n) runtime, O(1) space"
   ]
  },
  {
   "cell_type": "code",
   "execution_count": 3,
   "id": "still-swaziland",
   "metadata": {},
   "outputs": [],
   "source": [
    "def smallest_subarray_with_given_sum(s, arr):\n",
    "    running_sum, start = 0, 0\n",
    "    smallest = float('inf')\n",
    "    for end in range(len(arr)):\n",
    "        running_sum += arr[end]\n",
    "        while running_sum >= s:\n",
    "            smallest = min(smallest, end - start + 1)\n",
    "            running_sum -= arr[start]\n",
    "            start += 1\n",
    "    return smallest if smallest != float('inf') else -1"
   ]
  },
  {
   "cell_type": "code",
   "execution_count": 4,
   "id": "induced-dream",
   "metadata": {},
   "outputs": [],
   "source": [
    "s, arr = 7, [2, 1, 5, 2, 3, 2]\n",
    "assert(smallest_subarray_with_given_sum(s, arr) == 2)"
   ]
  },
  {
   "cell_type": "markdown",
   "id": "dressed-dispute",
   "metadata": {},
   "source": [
    "### Longest Substring with K Distinct Characters (medium)\n",
    "#### Problem Statement\n",
    "Given a string, find the length of the longest substring in it with no more than K distinct characters.\n",
    "\n",
    "You can assume that K is less than or equal to the length of the given string.\n",
    "#### Solution\n",
    "O(n) runtime, O(k) space.\n",
    "Use `dict` to keep track of char frequency. Once substring is invalid, iterate `start` pointer until it is valid."
   ]
  },
  {
   "cell_type": "code",
   "execution_count": 5,
   "id": "interstate-retrieval",
   "metadata": {},
   "outputs": [],
   "source": [
    "def longest_substring_with_k_distinct(s, k):\n",
    "    start, max_len, l = 0, 0, len(s)\n",
    "    freq = dict()\n",
    "    for end in range(l):\n",
    "        curr = s[end]\n",
    "        if curr not in freq:\n",
    "            freq[curr] = 0\n",
    "        freq[curr] += 1\n",
    "        while len(freq) > k:\n",
    "            curr = s[start]\n",
    "            freq[curr] -= 1\n",
    "            if freq[curr] == 0:\n",
    "                del freq[curr]\n",
    "            start += 1\n",
    "        max_len = max(max_len, end-start+1)\n",
    "    return max_len"
   ]
  },
  {
   "cell_type": "code",
   "execution_count": 6,
   "id": "defensive-tuning",
   "metadata": {},
   "outputs": [],
   "source": [
    "k, s = 2, \"araaci\"\n",
    "assert(longest_substring_with_k_distinct(s, k) == 4)"
   ]
  },
  {
   "cell_type": "markdown",
   "id": "qualified-survivor",
   "metadata": {},
   "source": [
    "### Fruits into Baskets (medium)\n",
    "#### Problem Statement\n",
    "Given an array of characters where each character represents a fruit tree, you are given two baskets, and your goal is to put maximum number of fruits in each basket. The only restriction is that each basket can have only one type of fruit.\n",
    "\n",
    "You can start with any tree, but you can’t skip a tree once you have started. You will pick one fruit from each tree until you cannot, i.e., you will stop when you have to pick from a third fruit type.\n",
    "\n",
    "Write a function to return the maximum number of fruits in both baskets.\n",
    "#### Similar Problems\n",
    "* Longest Substring with at most 2 distinct characters\n",
    "\n",
    "#### Solution\n",
    "O(n) runtime, O(1) space"
   ]
  },
  {
   "cell_type": "code",
   "execution_count": 7,
   "id": "needed-signal",
   "metadata": {},
   "outputs": [],
   "source": [
    "def fruits_into_baskets(fruits):\n",
    "    seen = dict()\n",
    "    start, max_len = 0, 0\n",
    "    l = len(fruits)\n",
    "    for end in range(l):\n",
    "        if fruits[end] not in seen:\n",
    "            seen[fruits[end]] = 0\n",
    "        seen[fruits[end]] += 1\n",
    "        while len(seen) > 2:\n",
    "            seen[fruits[start]] -= 1\n",
    "            if seen[fruits[start]] == 0:\n",
    "                del seen[fruits[start]]\n",
    "            start += 1\n",
    "        max_len = max(end - start + 1, max_len)\n",
    "    return max_len"
   ]
  },
  {
   "cell_type": "code",
   "execution_count": 8,
   "id": "flying-sherman",
   "metadata": {},
   "outputs": [],
   "source": [
    "fruit = ['A', 'B', 'C', 'B', 'B', 'C']\n",
    "assert(fruits_into_baskets(fruit) == 5)"
   ]
  },
  {
   "cell_type": "markdown",
   "id": "through-inspiration",
   "metadata": {},
   "source": [
    "### No-repeat Substring (medium)\n",
    "#### Problem Statement\n",
    "\n",
    "Given a string, find the length of the longest substring, which has no repeating characters.\n",
    "\n",
    "#### Solution\n",
    "\n",
    "O(n) runtime, O(n) space"
   ]
  },
  {
   "cell_type": "code",
   "execution_count": 9,
   "id": "vanilla-purse",
   "metadata": {},
   "outputs": [],
   "source": [
    "def longest_nonrepeating_subtring(s):\n",
    "    def get_len():\n",
    "        seen, start = dict(), -1\n",
    "        for end, char in enumerate(s):\n",
    "            if char in seen and seen[char] > start:\n",
    "                start = seen[char]\n",
    "            else:\n",
    "                yield end - start\n",
    "            seen[char] = end\n",
    "        yield 0\n",
    "    return max(get_len())"
   ]
  },
  {
   "cell_type": "code",
   "execution_count": 10,
   "id": "expired-certificate",
   "metadata": {},
   "outputs": [],
   "source": [
    "s = \"abcabcbb\"\n",
    "assert(longest_nonrepeating_subtring(s) == 3)"
   ]
  },
  {
   "cell_type": "markdown",
   "id": "eleven-earthquake",
   "metadata": {},
   "source": [
    "### Longest Substring with Same Letters after Replacement (hard)\n",
    "#### Problem Statement\n",
    "\n",
    "Given a string with lowercase letters only, if you are allowed to replace no more than ‘k’ letters with any letter, find the length of the longest substring having the same letters after replacement.\n",
    "\n",
    "#### Solution\n",
    "\n",
    "O(n) runtime, O(1) space (reduced to max of ASCII characters)"
   ]
  },
  {
   "cell_type": "code",
   "execution_count": 11,
   "id": "addressed-roads",
   "metadata": {},
   "outputs": [],
   "source": [
    "def longest_removal_substring(s, k):\n",
    "    def get_max():\n",
    "        seen = dict()\n",
    "        start, max_count = 0, 0\n",
    "        yield min(k, len(s))\n",
    "        for end, char in enumerate(s):\n",
    "            if char not in seen:\n",
    "                seen[char] = 0\n",
    "            seen[char] += 1\n",
    "            max_count = max(max_count, seen[char])\n",
    "            if end - start + 1 - max_count > k:\n",
    "                seen[s[start]] -= 1\n",
    "                start += 1\n",
    "            yield end - start + 1\n",
    "    return max(get_max())"
   ]
  },
  {
   "cell_type": "code",
   "execution_count": 12,
   "id": "civic-sponsorship",
   "metadata": {},
   "outputs": [],
   "source": [
    "s, k = \"aabccbb\", 2\n",
    "assert(longest_removal_substring(s, k) == 5)"
   ]
  },
  {
   "cell_type": "markdown",
   "id": "growing-shield",
   "metadata": {},
   "source": [
    "### Permutation in a String (hard)\n",
    "\n",
    "#### Problem Statement\n",
    "\n",
    "Given a string and a pattern, find out if the string contains any permutation of the pattern.\n",
    "\n",
    "#### Solution\n",
    "\n",
    "O(n) runtime, O(1) space because restricted to ASCII characters."
   ]
  },
  {
   "cell_type": "code",
   "execution_count": 13,
   "id": "vocal-madrid",
   "metadata": {},
   "outputs": [],
   "source": [
    "def find_permutation(s, pattern):\n",
    "    counter, start, l = 0, 0, len(pattern) - 1\n",
    "    curr, count = dict(), dict()\n",
    "    for char in pattern:\n",
    "        if char not in count:\n",
    "            count[char] = 0\n",
    "        count[char] += 1\n",
    "    for end, char in enumerate(s):\n",
    "        if char not in count:\n",
    "            counter, start, curr = 0, end, {}\n",
    "        else:\n",
    "            if not curr:\n",
    "                start = end + 1\n",
    "            if char not in curr:\n",
    "                curr[char] = 0\n",
    "            elif char in curr:\n",
    "                while curr[char] > count[char]:\n",
    "                    start += 1\n",
    "                    curr[s[start]] -= 1\n",
    "                    if curr[s[start]] == 0:\n",
    "                        del curr[s[start]]\n",
    "                curr[char] += 1\n",
    "            if end - start + 1 == l:\n",
    "                return True\n",
    "    return False"
   ]
  },
  {
   "cell_type": "code",
   "execution_count": 14,
   "id": "addressed-marble",
   "metadata": {},
   "outputs": [],
   "source": [
    "s, pattern = \"oidbcaf\", \"abc\"\n",
    "assert(find_permutation(s, pattern) == True)"
   ]
  },
  {
   "cell_type": "markdown",
   "id": "educational-shakespeare",
   "metadata": {},
   "source": [
    "### Longest Subarray with Ones after Replacement (medium)\n",
    "\n",
    "#### Problem Statement\n",
    "\n",
    "Given an array containing 0s and 1s, if you are allowed to replace no more than ‘k’ 0s with 1s, find the length of the longest contiguous subarray having all 1s.\n",
    "\n",
    "#### Solution\n",
    "\n",
    "O(n) runtime, O(1) space complexity"
   ]
  },
  {
   "cell_type": "code",
   "execution_count": 17,
   "id": "altered-lesson",
   "metadata": {},
   "outputs": [],
   "source": [
    "def length_of_longest_substring(arr, k):\n",
    "    start = zeroes = max_len = 0\n",
    "    for end, num in enumerate(arr):\n",
    "        if num != 1:\n",
    "            zeroes += 1\n",
    "        while zeroes > k:\n",
    "            if arr[start] != 1:\n",
    "                zeroes -= 1\n",
    "            start += 1\n",
    "        max_len = max(max_len, end - start + 1)\n",
    "    return max_len"
   ]
  },
  {
   "cell_type": "code",
   "execution_count": 18,
   "id": "aging-accessory",
   "metadata": {},
   "outputs": [],
   "source": [
    "arr, k = [0, 1, 0, 0, 1, 1, 0, 1, 1, 0, 0, 1, 1], 3\n",
    "assert(length_of_longest_substring(arr, k) == 9)"
   ]
  },
  {
   "cell_type": "markdown",
   "id": "wired-bermuda",
   "metadata": {},
   "source": [
    "### String Anagrams (medium)\n",
    "\n",
    "#### Problem Statement\n",
    "\n",
    "Given a string and a pattern, find all anagrams of the pattern in the given string.\n",
    "\n",
    "Every anagram is a permutation of a string. As we know, when we are not allowed to repeat characters while finding permutations of a string, we get N!N! permutations (or anagrams) of a string having NN characters.\n",
    "\n",
    "Write a function to return a list of starting indices of the anagrams of the pattern in the given string.\n",
    "\n",
    "#### Solution\n",
    "\n",
    "O(n) runtime, O(1) space complexity. Constant space because limited to ASCII characters."
   ]
  },
  {
   "cell_type": "code",
   "execution_count": 23,
   "id": "according-retrieval",
   "metadata": {},
   "outputs": [],
   "source": [
    "def find_anagrams(s, pattern):\n",
    "    l = len(pattern)\n",
    "    count = dict()\n",
    "    for char in pattern:\n",
    "        if char not in count:\n",
    "            count[char] = 0\n",
    "        count[char] += 1\n",
    "\n",
    "    start = 0\n",
    "    window = dict()\n",
    "    result = []\n",
    "\n",
    "    for end, char in enumerate(s):\n",
    "        if char not in count:\n",
    "            window.clear()\n",
    "            start = end + 1\n",
    "            continue\n",
    "        while char in window and window[char] == count[char]:\n",
    "            window[s[start]] -= 1\n",
    "            if window[s[start]] == 0:\n",
    "                del window[s[start]]\n",
    "            start += 1\n",
    "        if char not in window:\n",
    "            window[char] = 0\n",
    "        window[char] += 1\n",
    "        if end - start + 1 == l:\n",
    "            result.append(start)\n",
    "            window[s[start]] -= 1\n",
    "            if window[s[start]] == 0:\n",
    "                del window[s[start]]\n",
    "            start += 1\n",
    "    return result"
   ]
  },
  {
   "cell_type": "code",
   "execution_count": 24,
   "id": "stopped-translation",
   "metadata": {},
   "outputs": [],
   "source": [
    "s, pattern = \"abbcabc\", \"abc\"\n",
    "assert(find_anagrams(s, pattern) == [2, 3, 4])"
   ]
  },
  {
   "cell_type": "markdown",
   "id": "juvenile-dylan",
   "metadata": {},
   "source": [
    "### Smallest Window containing Substring (hard)\n",
    "\n",
    "#### Problem Statement\n",
    "\n",
    "Given a string and a pattern, find the smallest substring in the given string which has all the characters of the given pattern.\n",
    "\n",
    "#### Solution\n",
    "\n",
    "O(n) runtime, O(1) space complexity. Constant space because limited to ASCII characters."
   ]
  },
  {
   "cell_type": "code",
   "execution_count": 33,
   "id": "anticipated-martin",
   "metadata": {},
   "outputs": [],
   "source": [
    "def find_substring(s, pattern):\n",
    "    count, missing = dict(), len(pattern)\n",
    "    for char in pattern:\n",
    "        if char not in count:\n",
    "            count[char] = 0\n",
    "        count[char] += 1\n",
    "    start = min_start = min_end = 0\n",
    "    for end, char in enumerate(s, 1):\n",
    "        if char not in count:\n",
    "            continue\n",
    "        if count[char] > 0:\n",
    "            missing -= 1\n",
    "        count[char] -= 1\n",
    "        if missing == 0:\n",
    "            while start < end and (s[start] not in count or count[s[start]] < 0):\n",
    "                if s[start] in count:\n",
    "                    count[s[start]] += 1\n",
    "                start += 1\n",
    "            if not min_end or end - start <= min_end - min_start:\n",
    "                min_start, min_end = start, end\n",
    "    return s[min_start:min_end]"
   ]
  },
  {
   "cell_type": "code",
   "execution_count": 34,
   "id": "prime-definition",
   "metadata": {},
   "outputs": [],
   "source": [
    "s, pattern = \"aabdec\", \"abc\"\n",
    "assert(find_substring(s, pattern) == \"abdec\")"
   ]
  },
  {
   "cell_type": "code",
   "execution_count": null,
   "id": "homeless-lithuania",
   "metadata": {},
   "outputs": [],
   "source": []
  }
 ],
 "metadata": {
  "kernelspec": {
   "display_name": "Python 3",
   "language": "python",
   "name": "python3"
  },
  "language_info": {
   "codemirror_mode": {
    "name": "ipython",
    "version": 3
   },
   "file_extension": ".py",
   "mimetype": "text/x-python",
   "name": "python",
   "nbconvert_exporter": "python",
   "pygments_lexer": "ipython3",
   "version": "3.9.6"
  }
 },
 "nbformat": 4,
 "nbformat_minor": 5
}
