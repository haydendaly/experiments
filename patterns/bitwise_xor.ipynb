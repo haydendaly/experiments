{
 "cells": [
  {
   "cell_type": "markdown",
   "id": "stuffed-conservative",
   "metadata": {},
   "source": [
    "### Find Missing Number\n",
    "\n",
    "#### Problem Statement\n",
    "\n",
    "Given an array of n-1n−1 integers in the range from 11 to nn, find the one number that is missing from the array.\n",
    "\n",
    "#### Solution\n",
    "\n",
    "O(n) runtime, O(1) space"
   ]
  },
  {
   "cell_type": "code",
   "execution_count": 24,
   "id": "gentle-curtis",
   "metadata": {},
   "outputs": [
    {
     "data": {
      "text/plain": [
       "3"
      ]
     },
     "execution_count": 24,
     "metadata": {},
     "output_type": "execute_result"
    }
   ],
   "source": [
    "def find_missing_number_naive(arr):\n",
    "    missing = 0\n",
    "    for i, num in enumerate(arr):\n",
    "        missing += (num - i)\n",
    "    return missing - len(arr)\n",
    "\n",
    "def find_missing_number(arr):\n",
    "    l = len(arr) + 2\n",
    "    xor1, xor2 = 1, 0\n",
    "    for i in range(2, l):\n",
    "        xor1 = xor1 ^ i\n",
    "        \n",
    "    for i in range(l - 2):\n",
    "        xor2 = xor2 ^ arr[i]\n",
    "        \n",
    "    return xor1 ^ xor2\n",
    "    \n",
    "find_missing_number([1, 5, 2, 6, 4])"
   ]
  },
  {
   "cell_type": "code",
   "execution_count": 28,
   "id": "canadian-collapse",
   "metadata": {},
   "outputs": [
    {
     "name": "stdout",
     "output_type": "stream",
     "text": [
      "4\n"
     ]
    }
   ],
   "source": [
    "def find_single_number(arr):\n",
    "    single = 0\n",
    "    for num in arr:\n",
    "        single ^= num\n",
    "    return single\n",
    "\n",
    "arr, ans = [1, 4, 2, 1, 3, 2, 3], 4\n",
    "result = find_single_number(arr)\n",
    "print(result)"
   ]
  },
  {
   "cell_type": "code",
   "execution_count": 36,
   "id": "electrical-acrylic",
   "metadata": {},
   "outputs": [
    {
     "data": {
      "text/plain": [
       "[4, 6]"
      ]
     },
     "execution_count": 36,
     "metadata": {},
     "output_type": "execute_result"
    }
   ],
   "source": [
    "def find_two_single_numbers(arr):\n",
    "    n1xn2 = 0 # find value of num1 ^ num2\n",
    "    for num in arr:\n",
    "        n1xn2 ^= num\n",
    "    right = 1\n",
    "    # grab furthest bit to the right which is 1\n",
    "    while (right & n1xn2) == 0:\n",
    "        right = right << 1\n",
    "    num1, num2 = 0, 0\n",
    "    \n",
    "    # able to separate numbers in array to where a bit is set and where it isn't\n",
    "    for num in arr:\n",
    "        if (num & right) != 0: # if bit is set\n",
    "            num1 ^= num\n",
    "        else:\n",
    "            num2 ^= num\n",
    "    return sorted([num1, num2])\n",
    "\n",
    "find_two_single_numbers([1, 4, 2, 1, 3, 5, 6, 2, 3, 5])"
   ]
  },
  {
   "cell_type": "code",
   "execution_count": 52,
   "id": "institutional-rugby",
   "metadata": {},
   "outputs": [
    {
     "data": {
      "text/plain": [
       "7"
      ]
     },
     "execution_count": 52,
     "metadata": {},
     "output_type": "execute_result"
    }
   ],
   "source": [
    "def bitwise_complement_naive(n):\n",
    "    s = bin(n)[2:]\n",
    "    result = 0\n",
    "    for bit in s:\n",
    "        result *= 2\n",
    "        if bit == '0':\n",
    "            result += 1\n",
    "    return result\n",
    "\n",
    "def bitwise_complement(n):\n",
    "    l, num = 0, n\n",
    "    while n > 0:\n",
    "        l += 1\n",
    "        n = n >> 1\n",
    "    pure = pow(2, l) - 1\n",
    "    return num ^ pure\n",
    "bitwise_complement(8)"
   ]
  },
  {
   "cell_type": "code",
   "execution_count": 62,
   "id": "employed-illness",
   "metadata": {},
   "outputs": [
    {
     "name": "stdout",
     "output_type": "stream",
     "text": [
      "[[0, 1, 0], [0, 0, 0], [0, 0, 1]]\n",
      "[[1, 1, 0, 0], [0, 1, 1, 0], [0, 0, 0, 1], [1, 0, 1, 0]]\n"
     ]
    }
   ],
   "source": [
    "def flip_and_invert_image(matrix):\n",
    "    m, n = len(matrix), len(matrix[0])\n",
    "    for i in range(m):\n",
    "        for j in range(n // 2):\n",
    "            matrix[i][j], matrix[i][n - j - 1] = matrix[i][n - j - 1] ^ 1, matrix[i][j] ^ 1\n",
    "        if n & 1 == 1:\n",
    "            matrix[i][n // 2] = matrix[i][n // 2] ^ 1\n",
    "    return matrix\n",
    "\n",
    "print(flip_and_invert_image([[1,0,1], [1,1,1], [0,1,1]]))\n",
    "print(flip_and_invert_image([[1,1,0,0],[1,0,0,1],[0,1,1,1],[1,0,1,0]]))\n"
   ]
  },
  {
   "cell_type": "code",
   "execution_count": null,
   "id": "recreational-indianapolis",
   "metadata": {},
   "outputs": [],
   "source": []
  }
 ],
 "metadata": {
  "kernelspec": {
   "display_name": "Python 3",
   "language": "python",
   "name": "python3"
  },
  "language_info": {
   "codemirror_mode": {
    "name": "ipython",
    "version": 3
   },
   "file_extension": ".py",
   "mimetype": "text/x-python",
   "name": "python",
   "nbconvert_exporter": "python",
   "pygments_lexer": "ipython3",
   "version": "3.9.6"
  }
 },
 "nbformat": 4,
 "nbformat_minor": 5
}
