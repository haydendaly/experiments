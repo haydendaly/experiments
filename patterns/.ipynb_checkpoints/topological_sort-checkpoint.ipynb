{
 "cells": [
  {
   "cell_type": "markdown",
   "id": "matched-forge",
   "metadata": {},
   "source": [
    "# Topological Sort Pattern\n",
    "\n",
    "Topological Sort is used to find a linear ordering of elements that have dependencies on each other. For example, if event ‘B’ is dependent on event ‘A’, ‘A’ comes before ‘B’ in topological ordering.\n",
    "\n",
    "## Examples"
   ]
  },
  {
   "cell_type": "markdown",
   "id": "diagnostic-warrior",
   "metadata": {},
   "source": [
    "### Topological Sort (medium)\n",
    "\n",
    "#### Problem Statement\n",
    "\n",
    "Topological Sort of a directed graph (a graph with unidirectional edges) is a linear ordering of its vertices such that for every directed edge (U, V) from vertex U to vertex V, U comes before V in the ordering.\n",
    "\n",
    "Given a directed graph, find the topological ordering of its vertices."
   ]
  },
  {
   "cell_type": "code",
   "execution_count": 4,
   "id": "substantial-thesis",
   "metadata": {},
   "outputs": [],
   "source": [
    "from collections import deque\n",
    "\n",
    "def topological_sort(vertices, edges):\n",
    "    result = []\n",
    "    if vertices <= 0:\n",
    "        return result\n",
    "\n",
    "    in_degree = { i: 0 for i in range(vertices) }\n",
    "    graph = { i: [] for i in range(vertices) }\n",
    "\n",
    "    for edge in edges:\n",
    "        parent, child = edge[0], edge[1]\n",
    "        graph[parent].append(child)\n",
    "        in_degree[child] += 1\n",
    "\n",
    "    sources = deque()\n",
    "    for key in in_degree:\n",
    "        if in_degree[key] == 0:\n",
    "          sources.append(key)\n",
    "\n",
    "    while sources:\n",
    "        vertex = sources.popleft()\n",
    "        result.append(vertex)\n",
    "        for child in graph[vertex]:\n",
    "            in_degree[child] -= 1\n",
    "            if in_degree[child] == 0:\n",
    "                sources.append(child)\n",
    "\n",
    "    if len(result) != vertices:\n",
    "        return []\n",
    "\n",
    "    return result"
   ]
  },
  {
   "cell_type": "code",
   "execution_count": 9,
   "id": "future-comfort",
   "metadata": {},
   "outputs": [
    {
     "name": "stdout",
     "output_type": "stream",
     "text": [
      "[5, 6, 3, 4, 0, 2, 1]\n"
     ]
    }
   ],
   "source": [
    "vertices, edges = 7, [[6, 4], [6, 2], [5, 3], [5, 4], [3, 0], [3, 1], [3, 2], [4, 1]]\n",
    "result = topological_sort(vertices, edges)\n",
    "print(result)"
   ]
  },
  {
   "cell_type": "markdown",
   "id": "dress-second",
   "metadata": {},
   "source": [
    "#### Similar Problems\n",
    "\n",
    "Find if a given Directed Graph has a cycle in it or not."
   ]
  },
  {
   "cell_type": "code",
   "execution_count": 10,
   "id": "partial-noise",
   "metadata": {},
   "outputs": [],
   "source": [
    "if len(result) != vertices:\n",
    "    result = []"
   ]
  },
  {
   "cell_type": "code",
   "execution_count": null,
   "id": "fundamental-philosophy",
   "metadata": {},
   "outputs": [],
   "source": []
  }
 ],
 "metadata": {
  "kernelspec": {
   "display_name": "Python 3",
   "language": "python",
   "name": "python3"
  },
  "language_info": {
   "codemirror_mode": {
    "name": "ipython",
    "version": 3
   },
   "file_extension": ".py",
   "mimetype": "text/x-python",
   "name": "python",
   "nbconvert_exporter": "python",
   "pygments_lexer": "ipython3",
   "version": "3.9.6"
  }
 },
 "nbformat": 4,
 "nbformat_minor": 5
}
