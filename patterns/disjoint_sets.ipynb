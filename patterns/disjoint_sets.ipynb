{
 "cells": [
  {
   "cell_type": "markdown",
   "id": "saving-agreement",
   "metadata": {},
   "source": [
    "# Applications of Disjoint Sets\n",
    "\n",
    "If you have a set of N elements partitioned into further subsets, and you have to keep track of the connectivity of each element in a particular subset or connectivity of subsets with eachouther. You can manage connectivity easily with disjoint sets and the union find operation.\n",
    "\n",
    "[William Fiset's Union Find Video](https://www.youtube.com/watch?v=0jNmHPfA_yE)\n",
    "\n",
    "## Examples"
   ]
  },
  {
   "cell_type": "markdown",
   "id": "bulgarian-october",
   "metadata": {},
   "source": [
    "### Redundant Connection\n",
    "\n",
    "#### Problem Statement\n",
    "\n",
    "In this problem, a tree is an undirected graph that is connected and has no cycles.\n",
    "\n",
    "You are given a graph that started as a tree with `n` nodes labeled from 1 to `n`, with one additional edge added. The added edge has two different vertices chosen from 1 to `n`, and was not an edge that already existed. The graph is represented as an array edges of length `n` where `edges[i] = [ai, bi]` indicates that there is an edge between nodes ai and bi in the graph.\n",
    "\n",
    "Return an edge that can be removed so that the resulting graph is a tree of n nodes. If there are multiple answers, return the answer that occurs last in the input.\n",
    "\n",
    "#### Solution\n",
    "\n",
    "O(n) runtime, O(n) space. Apply union find over all edges and if the current edge is already accounted for in the graph, return the redudnant edge."
   ]
  },
  {
   "cell_type": "code",
   "execution_count": 7,
   "id": "measured-biography",
   "metadata": {},
   "outputs": [],
   "source": [
    "def find_redundant_connection(edges):\n",
    "    parent = [0] * len(edges)\n",
    "    def find(x):\n",
    "        if parent[x] == 0:\n",
    "            return x\n",
    "        parent[x] = find(parent[x])\n",
    "        return parent[x]\n",
    "    def union(x, y):\n",
    "        root_x = find(x)\n",
    "        root_y = find(y)\n",
    "        if root_x == root_y:\n",
    "            return False\n",
    "        parent[root_x] = root_y\n",
    "        return True\n",
    "    for x, y in edges:\n",
    "        if not union(x - 1, y - 1):\n",
    "            return [x, y]\n",
    "    return [-1, -1]"
   ]
  },
  {
   "cell_type": "code",
   "execution_count": 9,
   "id": "knowing-lexington",
   "metadata": {},
   "outputs": [
    {
     "name": "stdout",
     "output_type": "stream",
     "text": [
      "[2, 3] True\n"
     ]
    }
   ],
   "source": [
    "edges, ans = [[1,2],[1,3],[2,3]], [2,3]\n",
    "result = find_redundant_connection(edges)\n",
    "print(result, result == ans)"
   ]
  },
  {
   "cell_type": "markdown",
   "id": "sought-shower",
   "metadata": {},
   "source": [
    "### Find the Duplicate Number\n",
    "\n",
    "Given an array of integers nums containing `n + 1` integers where each integer is in the range `[1, n]` inclusive.\n",
    "\n",
    "There is only one repeated number in nums, return this repeated number.\n",
    "\n",
    "You must solve the problem without modifying the array nums and uses only constant extra space.\n",
    "\n",
    "#### Problem Statement\n",
    "\n",
    "[LeetCode #287 (medium)](https://leetcode.com/problems/find-the-duplicate-number/)\n",
    "\n",
    "#### Solution\n",
    "\n",
    "O(n) runtime, O(1) space. This solution works by storing the values in their indexes position by making the value negative. This can be used to detect if this value has already been \"visited\" and is a flattened way of performing union find.\n",
    "\n",
    "However it modifies the input, if the input can't be modified, use the Floyd-Warshall algorithm for cycle detection."
   ]
  },
  {
   "cell_type": "code",
   "execution_count": 12,
   "id": "polished-person",
   "metadata": {},
   "outputs": [],
   "source": [
    "def find_duplicate(nums):\n",
    "    for num in nums:\n",
    "        if nums[abs(num) - 1] < 0:\n",
    "            return abs(num)\n",
    "        nums[abs(num) - 1] *= -1\n",
    "    return -1"
   ]
  },
  {
   "cell_type": "code",
   "execution_count": 13,
   "id": "useful-payroll",
   "metadata": {},
   "outputs": [
    {
     "name": "stdout",
     "output_type": "stream",
     "text": [
      "3 True\n"
     ]
    }
   ],
   "source": [
    "nums, ans = [3,1,3,4,2], 3\n",
    "result = find_duplicate(nums)\n",
    "print(result, result == ans)"
   ]
  },
  {
   "cell_type": "markdown",
   "id": "tracked-turner",
   "metadata": {},
   "source": [
    "### Number of Islands\n",
    "\n",
    "#### Problem Statement\n",
    "\n",
    "You are given an empty 2D binary grid grid of size `m x n`. The grid represents a map where 0's represent water and 1's represent land. Initially, all the cells of grid are water cells (i.e., all the cells are 0's).\n",
    "\n",
    "We may perform an add land operation which turns the water at position into a land. You are given an array positions where `positions[i] = [ri, ci]` is the position `(ri, ci)` at which we should operate the ith operation.\n",
    "\n",
    "Return an array of integers answer where `answer[i]` is the number of islands after turning the cell `(ri, ci)` into a land.\n",
    "\n",
    "An island is surrounded by water and is formed by connecting adjacent lands horizontally or vertically. You may assume all four edges of the grid are all surrounded by water.\n",
    "\n",
    "[LeetCode #305 (hard)](https://leetcode.com/problems/number-of-islands-ii/)\n",
    "\n",
    "#### Solution\n",
    "\n",
    "O(n) runtime, O(n^2) space. This approach starts by implementing a `UnionFind` class which performs all the basic operations of disjoint sets. This uses an array to flatten the matrix into a disjoint set. For large matrices, it is possible to use a dictionary with a get method and default value to improve space to O(n). However, this solution has the O(n^2) space solution."
   ]
  },
  {
   "cell_type": "code",
   "execution_count": 15,
   "id": "considered-front",
   "metadata": {},
   "outputs": [],
   "source": [
    "class UnionFind:\n",
    "    def __init__(self, n):\n",
    "        self.count = 0\n",
    "        self.parent = [-1]*n\n",
    "        self.rank = [0]*n\n",
    "    def is_valid(self, i):\n",
    "        return self.parent[i] >= 0\n",
    "    def set_parent(self, i):\n",
    "        if self.parent[i] == -1:\n",
    "            self.parent[i] = i\n",
    "            self.count += 1\n",
    "    def find(self, i):\n",
    "        if self.parent[i] != i:\n",
    "            self.parent[i] = self.find(self.parent[i])\n",
    "        return self.parent[i]\n",
    "    def union(self, x, y):\n",
    "        root_x = self.find(x)\n",
    "        root_y = self.find(y)\n",
    "        if root_x != root_y:\n",
    "            if self.rank[root_x] > self.rank[root_y]:\n",
    "                self.parent[root_y] = root_x\n",
    "            elif self.rank[root_x] < self.rank[root_y]:\n",
    "                self.parent[root_x] = root_y\n",
    "            else:\n",
    "                self.parent[root_y] = root_x\n",
    "                self.rank[root_x] += 1\n",
    "            self.count -= 1\n",
    "    def get_count(self):\n",
    "        return self.count"
   ]
  },
  {
   "cell_type": "markdown",
   "id": "marked-voluntary",
   "metadata": {},
   "source": [
    "Once you have the `UnionFind` class down, you instantiate it at size `(m * n)` which flattens the matrix into a disjoint set. You can iterate over the provided positions and see which of the neighbors overlap a pre-existing disjoint set. Then you apply the `set_parent` operation the flatten positon in the matrix. For each of the neighbors that are overlapping, you can apply the union find operation with ."
   ]
  },
  {
   "cell_type": "code",
   "execution_count": 17,
   "id": "contrary-organization",
   "metadata": {},
   "outputs": [],
   "source": [
    "def num_islands(m, n, positions):\n",
    "    ans = []\n",
    "    uf = UnionFind(m * n)\n",
    "    for pos in positions:\n",
    "        r, c = pos[0], pos[1]\n",
    "        overlap = []\n",
    "        if r - 1 >= 0 and uf.is_valid((r - 1) * n + c):\n",
    "            overlap.append((r - 1) * n + c)\n",
    "        if r + 1 < m and uf.is_valid((r+1) * n + c):\n",
    "            overlap.append((r + 1) * n + c)\n",
    "        if c - 1 >= 0 and uf.is_valid(r * n + c - 1):\n",
    "            overlap.append(r * n + c - 1)\n",
    "        if c + 1 < n and uf.is_valid(r * n + c + 1):\n",
    "            overlap.append(r * n + c + 1)\n",
    "        idx = r * n + c\n",
    "        uf.set_parent(idx)\n",
    "        for i in overlap:\n",
    "            uf.union(i, idx)\n",
    "        ans.append(uf.get_count())\n",
    "    return ans"
   ]
  },
  {
   "cell_type": "code",
   "execution_count": 18,
   "id": "collective-electron",
   "metadata": {},
   "outputs": [
    {
     "name": "stdout",
     "output_type": "stream",
     "text": [
      "[1, 1, 2, 3] True\n"
     ]
    }
   ],
   "source": [
    "m, n, positions, ans = 3, 3, [[0,0],[0,1],[1,2],[2,1]], [1,1,2,3]\n",
    "result = num_islands(m, n, positions)\n",
    "print(result, result == ans)"
   ]
  },
  {
   "cell_type": "markdown",
   "id": "excellent-banking",
   "metadata": {},
   "source": [
    "### Skyline Silhouette\n",
    "\n",
    "A city's skyline is the outer contour of the silhouette formed by all the buildings in that city when viewed from a distance. Given the locations and heights of all the buildings, return the skyline formed by these buildings collectively.\n",
    "\n",
    "The geometric information of each building is given in the array buildings where `buildings[i] = [lefti, righti, heighti]`:\n",
    "\n",
    "`lefti` is the xth coordinate of the left edge of the ith building.\n",
    "`righti` is the xth coordinate of the right edge of the ith building.\n",
    "`heighti` is the height of the ith building.\n",
    "You may assume all buildings are perfect rectangles grounded on an absolutely flat surface at height 0.\n",
    "\n",
    "The skyline should be represented as a list of \"key points\" sorted by their x-coordinate in the form `[[x1,y1],[x2,y2],...]`. Each key point is the left endpoint of some horizontal segment in the skyline except the last point in the list, which always has a y-coordinate 0 and is used to mark the skyline's termination where the rightmost building ends. Any ground between the leftmost and rightmost buildings should be part of the skyline's contour.\n",
    "\n",
    "Note: There must be no consecutive horizontal lines of equal height in the output skyline. For instance, `[...,[2 3],[4 5],[7 5],[11 5],[12 7],...]` is not acceptable; the three lines of height 5 should be merged into one in the final output as such: `[...,[2 3],[4 5],[12 7],...]`.\n",
    "\n",
    "[LeetCode #218 (hard)](https://leetcode.com/problems/the-skyline-problem/)\n",
    "\n",
    "#### Solution\n",
    "\n",
    "O(nlogn) runtime (only because sorting, rest is O(n)), O(n) space.\n",
    "\n",
    "[Visualization/Explanation](https://briangordon.github.io/2014/08/the-skyline-problem.html)"
   ]
  },
  {
   "cell_type": "code",
   "execution_count": 19,
   "id": "false-imperial",
   "metadata": {},
   "outputs": [],
   "source": [
    "from heapq import heappop, heappush\n",
    "\n",
    "def get_skyline(buildings):\n",
    "    def add_height(pos, hei):\n",
    "        if heights[-1][1] != hei:\n",
    "            heights.append([pos, hei])\n",
    "    positions = set([b[0] for b in buildings] + [b[1] for b in buildings])\n",
    "    i, curr, heights = 0, [], [[-1, 0]]\n",
    "    for t in sorted(positions):\n",
    "        while i < len(buildings) and buildings[i][0] <= t:\n",
    "            heappush(curr, (-buildings[i][2], buildings[i][1]))\n",
    "            i += 1\n",
    "        while curr and curr[0][1] <= t:\n",
    "            heappop(curr)\n",
    "        new_height = -curr[0][0] if curr else 0\n",
    "        add_height(t, new_height)\n",
    "    return heights[1:]"
   ]
  },
  {
   "cell_type": "code",
   "execution_count": 20,
   "id": "exclusive-carter",
   "metadata": {},
   "outputs": [
    {
     "name": "stdout",
     "output_type": "stream",
     "text": [
      "[[2, 10], [3, 15], [7, 12], [12, 0], [15, 10], [20, 8], [24, 0]] True\n"
     ]
    }
   ],
   "source": [
    "buildings, ans = [[2,9,10],[3,7,15],[5,12,12],[15,20,10],[19,24,8]], [[2,10],[3,15],[7,12],[12,0],[15,10],[20,8],[24,0]]\n",
    "result = get_skyline(buildings)\n",
    "print(result, result == ans)"
   ]
  },
  {
   "cell_type": "code",
   "execution_count": null,
   "id": "desirable-spread",
   "metadata": {},
   "outputs": [],
   "source": []
  }
 ],
 "metadata": {
  "kernelspec": {
   "display_name": "Python 3",
   "language": "python",
   "name": "python3"
  },
  "language_info": {
   "codemirror_mode": {
    "name": "ipython",
    "version": 3
   },
   "file_extension": ".py",
   "mimetype": "text/x-python",
   "name": "python",
   "nbconvert_exporter": "python",
   "pygments_lexer": "ipython3",
   "version": "3.9.6"
  }
 },
 "nbformat": 4,
 "nbformat_minor": 5
}
