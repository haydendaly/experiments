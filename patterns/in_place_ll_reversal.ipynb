{
 "cells": [
  {
   "cell_type": "markdown",
   "id": "early-continuity",
   "metadata": {},
   "source": [
    "# In Place Reversal\n",
    "\n",
    "In a lot of problems, we are asked to reverse the links between a set of nodes of a LinkedList. Often, the constraint is that we need to do this in-place, i.e., using the existing node objects and without using extra memory.\n",
    "\n",
    "## Examples"
   ]
  },
  {
   "cell_type": "markdown",
   "id": "gothic-remainder",
   "metadata": {},
   "source": [
    "### Reverse a LinkedList\n",
    "\n",
    "#### Problem Statement\n",
    "\n",
    "Given the head of a Singly LinkedList, reverse the LinkedList. Write a function to return the new head of the reversed LinkedList.\n",
    "\n",
    "#### Solution\n",
    "\n",
    "O(n) runtime, O(1) space"
   ]
  },
  {
   "cell_type": "code",
   "execution_count": 1,
   "id": "usual-diagram",
   "metadata": {},
   "outputs": [],
   "source": [
    "def reverse_ll(head):\n",
    "    prev, curr, next = None, head, None\n",
    "    while curr:\n",
    "        next = curr.next\n",
    "        curr.next = prev\n",
    "        prev = curr\n",
    "        curr = next\n",
    "    return prev"
   ]
  },
  {
   "cell_type": "code",
   "execution_count": 4,
   "id": "great-rapid",
   "metadata": {},
   "outputs": [
    {
     "name": "stdout",
     "output_type": "stream",
     "text": [
      "10, 8, 6, 4, 2, \n"
     ]
    }
   ],
   "source": [
    "head = Node(2)\n",
    "head.next = Node(4)\n",
    "head.next.next = Node(6)\n",
    "head.next.next.next = Node(8)\n",
    "head.next.next.next.next = Node(10)\n",
    "reverse_ll(head).print_list()"
   ]
  },
  {
   "cell_type": "markdown",
   "id": "engaged-being",
   "metadata": {},
   "source": [
    "### Reverse a Sublist\n",
    "\n",
    "#### Problem Statement\n",
    "\n",
    "Given the head of a LinkedList and two positions ‘p’ and ‘q’, reverse the LinkedList from position ‘p’ to ‘q’.\n",
    "\n",
    "#### Solution\n",
    "\n",
    "O(n) runtime, O(1) space"
   ]
  },
  {
   "cell_type": "code",
   "execution_count": 19,
   "id": "controlling-pontiac",
   "metadata": {},
   "outputs": [],
   "source": [
    "def reverse_sublist(head, p, q):\n",
    "    if p == q:\n",
    "        return head\n",
    "    i = 0\n",
    "    prev, curr = None, head\n",
    "    # get last position before and first node of sublist\n",
    "    while i < p - 1 and curr:\n",
    "        prev = curr\n",
    "        curr = curr.next\n",
    "        i += 1\n",
    "    end_of_first, begin_of_sub = prev, curr\n",
    "    # reverse sublist\n",
    "    while i < q and curr:\n",
    "        temp = curr.next\n",
    "        curr.next = prev\n",
    "        prev = curr\n",
    "        curr = temp\n",
    "        i += 1\n",
    "    # check if nodes exist to avoid None errors\n",
    "    if end_of_first:\n",
    "        end_of_first.next = prev\n",
    "    else:\n",
    "        head = prev\n",
    "    # point everything before sublist to reversed sublist head\n",
    "    begin_of_sub.next = curr\n",
    "    return head"
   ]
  },
  {
   "cell_type": "code",
   "execution_count": 20,
   "id": "dental-challenge",
   "metadata": {},
   "outputs": [
    {
     "name": "stdout",
     "output_type": "stream",
     "text": [
      "1, 4, 3, 2, 5, \n"
     ]
    }
   ],
   "source": [
    "head = Node(1)\n",
    "head.next = Node(2)\n",
    "head.next.next = Node(3)\n",
    "head.next.next.next = Node(4)\n",
    "head.next.next.next.next = Node(5)\n",
    "reverse_sublist(head, 2, 4).print_list()"
   ]
  },
  {
   "cell_type": "markdown",
   "id": "owned-wildlife",
   "metadata": {},
   "source": [
    "## Utils"
   ]
  },
  {
   "cell_type": "code",
   "execution_count": 3,
   "id": "contained-portal",
   "metadata": {},
   "outputs": [],
   "source": [
    "class Node:\n",
    "    def __init__(self, value, next=None):\n",
    "        self.value = value\n",
    "        self.next = next\n",
    "\n",
    "    def print_list(self):\n",
    "        temp = self\n",
    "        while temp:\n",
    "            print(temp.value, end=\", \")\n",
    "            temp = temp.next\n",
    "        print()"
   ]
  },
  {
   "cell_type": "code",
   "execution_count": null,
   "id": "funny-cycle",
   "metadata": {},
   "outputs": [],
   "source": []
  }
 ],
 "metadata": {
  "kernelspec": {
   "display_name": "Python 3",
   "language": "python",
   "name": "python3"
  },
  "language_info": {
   "codemirror_mode": {
    "name": "ipython",
    "version": 3
   },
   "file_extension": ".py",
   "mimetype": "text/x-python",
   "name": "python",
   "nbconvert_exporter": "python",
   "pygments_lexer": "ipython3",
   "version": "3.9.6"
  }
 },
 "nbformat": 4,
 "nbformat_minor": 5
}
