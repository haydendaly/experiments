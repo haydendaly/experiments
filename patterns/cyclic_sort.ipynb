{
 "cells": [
  {
   "cell_type": "markdown",
   "id": "relative-coffee",
   "metadata": {},
   "source": [
    "# Cyclic Sort\n",
    "\n",
    "This pattern describes an interesting approach to deal with problems involving arrays containing numbers in a given range. For example, take the following problem:\n",
    "\n",
    "* You are given an unsorted array containing numbers taken from the range 1 to ‘n’. The array can have duplicates, which means that some numbers will be missing. Find all the missing numbers.\n",
    "\n",
    "To efficiently solve this problem, we can use the fact that the input array contains numbers in the range of 1 to ‘n’. For example, to efficiently sort the array, we can try placing each number in its correct place, i.e., placing ‘1’ at index ‘0’, placing ‘2’ at index ‘1’, and so on. Once we are done with the sorting, we can iterate the array to find all indices that are missing the correct numbers. These will be our required numbers.\n",
    "\n",
    "## Requirements\n",
    "\n",
    "* Has a fixed range (i.e. 1 to n)\n",
    "\n",
    "## Examples"
   ]
  },
  {
   "cell_type": "markdown",
   "id": "polar-courage",
   "metadata": {},
   "source": [
    "### Cyclic Sort\n",
    "\n",
    "#### Problem Statement\n",
    "\n",
    "We are given an array containing ‘n’ objects. Each object, when created, was assigned a unique number from 1 to ‘n’ based on their creation sequence. This means that the object with sequence number ‘3’ was created just before the object with sequence number ‘4’.\n",
    "\n",
    "Write a function to sort the objects in-place on their creation sequence number in O(n) time and without any extra space. For simplicity, let’s assume we are passed an integer array containing only the sequence numbers, though each number is actually an object.\n",
    "\n",
    "#### Solution\n",
    "\n",
    "O(n) runtime, O(1) space but modifies input"
   ]
  },
  {
   "cell_type": "code",
   "execution_count": 1,
   "id": "virgin-cancer",
   "metadata": {},
   "outputs": [],
   "source": [
    "def cyclic_sort(nums):\n",
    "    i = 0\n",
    "    while i < len(nums):\n",
    "        if nums[i] != i + 1:\n",
    "            target = nums[i] - 1\n",
    "            nums[i], nums[target] = nums[target], nums[i]\n",
    "        else:\n",
    "            i += 1\n",
    "    return nums"
   ]
  },
  {
   "cell_type": "code",
   "execution_count": 2,
   "id": "harmful-balloon",
   "metadata": {},
   "outputs": [
    {
     "name": "stdout",
     "output_type": "stream",
     "text": [
      "[1, 2, 3, 4, 5, 6] True\n"
     ]
    }
   ],
   "source": [
    "arr, ans = [2, 6, 4, 3, 1, 5], [1, 2, 3, 4, 5, 6]\n",
    "result = cyclic_sort(arr)\n",
    "print(result, result == ans)"
   ]
  },
  {
   "cell_type": "markdown",
   "id": "guided-mainstream",
   "metadata": {},
   "source": [
    "### Find the Missing Number\n",
    "\n",
    "#### Problem Statement\n",
    "\n",
    "We are given an array containing ‘n’ distinct numbers taken from the range 0 to ‘n’. Since the array has only ‘n’ numbers out of the total ‘n+1’ numbers, find the missing number.\n",
    "\n",
    "#### Solution\n",
    "\n",
    "O(n) runtime, O(1) space but modifies input."
   ]
  },
  {
   "cell_type": "code",
   "execution_count": 3,
   "id": "dirty-diesel",
   "metadata": {},
   "outputs": [],
   "source": [
    "def find_missing_number(nums):\n",
    "    i = 0\n",
    "    while i < len(nums):\n",
    "        target = nums[i]\n",
    "        if nums[i] < len(nums) and nums[i] != nums[target]:\n",
    "            nums[i], nums[target] = nums[target], nums[i]\n",
    "        else:\n",
    "            i += 1\n",
    "    for i, num in enumerate(nums):\n",
    "        if i != num:\n",
    "            return i\n",
    "    return -1 if len(nums) in nums else len(nums)"
   ]
  },
  {
   "cell_type": "code",
   "execution_count": 4,
   "id": "unauthorized-chair",
   "metadata": {},
   "outputs": [
    {
     "name": "stdout",
     "output_type": "stream",
     "text": [
      "7 True\n"
     ]
    }
   ],
   "source": [
    "arr, ans = [8, 3, 5, 2, 4, 6, 0, 1], 7\n",
    "result = find_missing_number(arr)\n",
    "print(result, result == ans)"
   ]
  },
  {
   "cell_type": "markdown",
   "id": "appreciated-topic",
   "metadata": {},
   "source": [
    "### Find all Missing Numbers\n",
    "\n",
    "#### Problem Statement\n",
    "\n",
    "We are given an unsorted array containing numbers taken from the range 1 to ‘n’. The array can have duplicates, which means some numbers will be missing. Find all those missing numbers.\n",
    "\n",
    "#### Solution\n",
    "\n",
    "O(n) runtime, O(1) space but modifies input."
   ]
  },
  {
   "cell_type": "code",
   "execution_count": 5,
   "id": "prospective-dragon",
   "metadata": {},
   "outputs": [],
   "source": [
    "def find_missing_numbers(nums):\n",
    "    i = 0\n",
    "    while i < len(nums):\n",
    "        target = nums[i] - 1\n",
    "        if nums[i] != nums[target]:\n",
    "            nums[i], nums[target] = nums[target], nums[i]\n",
    "        else:\n",
    "            i += 1\n",
    "    result = []\n",
    "    for i, num in enumerate(nums):\n",
    "        if i + 1 != num:\n",
    "            result.append(i + 1)\n",
    "    return result"
   ]
  },
  {
   "cell_type": "code",
   "execution_count": 6,
   "id": "international-climb",
   "metadata": {},
   "outputs": [
    {
     "name": "stdout",
     "output_type": "stream",
     "text": [
      "[4, 6, 7] True\n"
     ]
    }
   ],
   "source": [
    "arr, ans = [2, 3, 1, 8, 2, 3, 5, 1], [4, 6, 7]\n",
    "result = find_missing_numbers(arr)\n",
    "print(result, ans == result)"
   ]
  },
  {
   "cell_type": "markdown",
   "id": "decreased-unemployment",
   "metadata": {},
   "source": [
    "### Find the Duplicate Number\n",
    "\n",
    "#### Problem Statement\n",
    "\n",
    "We are given an unsorted array containing ‘n+1’ numbers taken from the range 1 to ‘n’. The array has only one duplicate but it can be repeated multiple times. Find that duplicate number without using any extra space. You are, however, allowed to modify the input array.\n",
    "\n",
    "#### Similar Problems\n",
    "\n",
    "#### Solution\n",
    "\n",
    "O(n) runtime, O(1) space.\n",
    "\n",
    "This solution modifies the input but you can use LinkedList cycle detection here for O(n) runtime and not modifying the input.\n",
    "\n",
    "A clean solution to this problem which modifies the input is shown in the Disjoint Sets notebook."
   ]
  },
  {
   "cell_type": "code",
   "execution_count": 7,
   "id": "incident-fourth",
   "metadata": {},
   "outputs": [],
   "source": [
    "def find_duplicate(nums):\n",
    "    i = 0\n",
    "    while i < len(nums):\n",
    "        if nums[i] != i + 1:\n",
    "            target = nums[i] - 1\n",
    "            if nums[i] != nums[target]:\n",
    "                nums[i], nums[target] = nums[target], nums[i]\n",
    "            else:\n",
    "                return nums[i]\n",
    "        else:\n",
    "            i += 1\n",
    "    return -1"
   ]
  },
  {
   "cell_type": "code",
   "execution_count": 8,
   "id": "disabled-enough",
   "metadata": {},
   "outputs": [
    {
     "name": "stdout",
     "output_type": "stream",
     "text": [
      "3 True\n"
     ]
    }
   ],
   "source": [
    "arr, ans = [2, 1, 3, 3, 5, 4], 3\n",
    "result = find_duplicate(arr)\n",
    "print(result, result == ans)"
   ]
  },
  {
   "cell_type": "markdown",
   "id": "imperial-constant",
   "metadata": {},
   "source": [
    "### Find all Duplicate Numbers\n",
    "\n",
    "#### Problem Statement\n",
    "\n",
    "We are given an unsorted array containing ‘n’ numbers taken from the range 1 to ‘n’. The array has some numbers appearing twice, find all these duplicate numbers without using any extra space.\n",
    "\n",
    "#### Solution\n",
    "\n",
    "O(n) runtime, O(1) space but modifies input."
   ]
  },
  {
   "cell_type": "code",
   "execution_count": 9,
   "id": "decreased-circle",
   "metadata": {},
   "outputs": [],
   "source": [
    "def find_all_duplicates(nums):\n",
    "    duped = set()\n",
    "    i = 0\n",
    "    while i < len(nums):\n",
    "        j = nums[i] - 1\n",
    "        if nums[i] != nums[j]:\n",
    "            nums[i], nums[j] = nums[j], nums[i]\n",
    "        else:\n",
    "            i += 1\n",
    "    for i, num in enumerate(nums):\n",
    "        if num != i + 1:\n",
    "            duped.add(nums[i])\n",
    "    return list(duped)"
   ]
  },
  {
   "cell_type": "code",
   "execution_count": 10,
   "id": "changed-complex",
   "metadata": {},
   "outputs": [
    {
     "name": "stdout",
     "output_type": "stream",
     "text": [
      "[3, 5] True\n"
     ]
    }
   ],
   "source": [
    "arr, ans = [5, 4, 7, 2, 3, 5, 3], [3, 5]\n",
    "result = find_all_duplicates(arr)\n",
    "print(result, result == ans)"
   ]
  },
  {
   "cell_type": "markdown",
   "id": "virtual-cassette",
   "metadata": {},
   "source": [
    "### Find the Corrupt Pair\n",
    "\n",
    "#### Problem Statement\n",
    "\n",
    "We are given an unsorted array containing ‘n’ numbers taken from the range 1 to ‘n’. The array originally contained all the numbers from 1 to ‘n’, but due to a data error, one of the numbers got duplicated which also resulted in one number going missing. Find both these numbers.\n",
    "\n",
    "#### Solution\n",
    "\n",
    "O(n) runtime, O(1) space complexity."
   ]
  },
  {
   "cell_type": "code",
   "execution_count": 11,
   "id": "bound-understanding",
   "metadata": {},
   "outputs": [],
   "source": [
    "def find_corrupt_numbers(nums):\n",
    "    i = 0\n",
    "    while i < len(nums):\n",
    "        j = nums[i] - 1\n",
    "        if nums[i] != nums[j]:\n",
    "            nums[i], nums[j] = nums[j], nums[i]\n",
    "        else:\n",
    "            i += 1\n",
    "    for i, num in enumerate(nums):\n",
    "        if num != i + 1:\n",
    "            return [num, i + 1]\n",
    "    return [-1, -1]"
   ]
  },
  {
   "cell_type": "code",
   "execution_count": 12,
   "id": "fourth-sheffield",
   "metadata": {},
   "outputs": [
    {
     "name": "stdout",
     "output_type": "stream",
     "text": [
      "[3, 5] True\n"
     ]
    }
   ],
   "source": [
    "arr, ans = [3, 1, 2, 3, 6, 4], [3, 5]\n",
    "result = find_corrupt_numbers(arr)\n",
    "print(result, result == ans)"
   ]
  },
  {
   "cell_type": "markdown",
   "id": "prescription-western",
   "metadata": {},
   "source": [
    "### Find the Smallest Missing Positive Number\n",
    "\n",
    "#### Problem Statement\n",
    "\n",
    "Given an unsorted array containing numbers, find the smallest missing positive number in it.\n",
    "\n",
    "#### Solution\n",
    "\n",
    "O(n) runtime, O(1) space complexity but modifies input."
   ]
  },
  {
   "cell_type": "code",
   "execution_count": 13,
   "id": "passive-thumbnail",
   "metadata": {},
   "outputs": [],
   "source": [
    "def find_first_smallest_missing_positive(nums):\n",
    "    i, l = 0, len(nums)\n",
    "    while i < l:\n",
    "        j = nums[i] - 1\n",
    "        if 0 <= j < l and nums[i] != nums[j]:\n",
    "            nums[i], nums[j] = nums[j], nums[i]\n",
    "        else:\n",
    "            i += 1\n",
    "    for i, num in enumerate(nums):\n",
    "        if num != i + 1:\n",
    "            return i + 1\n",
    "    return l + 1"
   ]
  },
  {
   "cell_type": "code",
   "execution_count": 14,
   "id": "smooth-camping",
   "metadata": {},
   "outputs": [
    {
     "name": "stdout",
     "output_type": "stream",
     "text": [
      "3 True\n"
     ]
    }
   ],
   "source": [
    "arr, ans = [-3, 1, 5, 4, 2], 3\n",
    "result = find_first_smallest_missing_positive(arr)\n",
    "print(result, result == ans)"
   ]
  },
  {
   "cell_type": "markdown",
   "id": "thousand-halifax",
   "metadata": {},
   "source": [
    "### Find the First K Missing Positive Numbers\n",
    "\n",
    "#### Problem Statement\n",
    "\n",
    "Given an unsorted array containing numbers and a number ‘k’, find the first ‘k’ missing positive numbers in the array.\n",
    "\n",
    "#### Solution\n",
    "\n",
    "O(n + k) runtime, O(k) space complexity."
   ]
  },
  {
   "cell_type": "code",
   "execution_count": 15,
   "id": "drawn-internet",
   "metadata": {},
   "outputs": [],
   "source": [
    "def find_first_k_missing_positive(nums, k):\n",
    "    n = len(nums)\n",
    "    i = 0\n",
    "    while i < len(nums):\n",
    "        j = nums[i] - 1\n",
    "        if nums[i] > 0 and nums[i] <= n and nums[i] != nums[j]:\n",
    "            nums[i], nums[j] = nums[j], nums[i]  # swap\n",
    "        else:\n",
    "            i += 1\n",
    "\n",
    "    result = []\n",
    "    seen = set()\n",
    "    for i in range(n):\n",
    "        if len(result) < k:\n",
    "            if nums[i] != i + 1:\n",
    "                result.append(i + 1)\n",
    "                seen.add(nums[i])\n",
    "\n",
    "    i = n + 1\n",
    "    while len(result) < k:\n",
    "        if i not in seen:\n",
    "            result.append(i)\n",
    "        i += 1\n",
    "\n",
    "    return result"
   ]
  },
  {
   "cell_type": "code",
   "execution_count": 16,
   "id": "based-seminar",
   "metadata": {},
   "outputs": [
    {
     "name": "stdout",
     "output_type": "stream",
     "text": [
      "[1, 2, 6] True\n"
     ]
    }
   ],
   "source": [
    "arr, k, ans = [3, -1, 4, 5, 5], 3, [1, 2, 6]\n",
    "result = find_first_k_missing_positive(arr, k)\n",
    "print(result, result == ans)"
   ]
  }
 ],
 "metadata": {
  "kernelspec": {
   "display_name": "Python 3",
   "language": "python",
   "name": "python3"
  },
  "language_info": {
   "codemirror_mode": {
    "name": "ipython",
    "version": 3
   },
   "file_extension": ".py",
   "mimetype": "text/x-python",
   "name": "python",
   "nbconvert_exporter": "python",
   "pygments_lexer": "ipython3",
   "version": "3.9.6"
  }
 },
 "nbformat": 4,
 "nbformat_minor": 5
}
